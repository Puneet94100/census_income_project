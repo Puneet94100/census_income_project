{
  "nbformat": 4,
  "nbformat_minor": 0,
  "metadata": {
    "colab": {
      "provenance": [],
      "collapsed_sections": [
        "x3ffYioxz4vl",
        "P_J3pT4077xl",
        "zBDyE1Oe8pY8",
        "7wf5mm5HBxga",
        "0bgzs1Lvuad-",
        "_8KCXsuQxF6F",
        "9GjN7UGhyjrX",
        "xsThYs4Pzn0e",
        "UzaNhaP_0z6P",
        "R-ATI_cl1c9w",
        "tDuLYkOb2iq5",
        "kVwwJRqX3elF",
        "NlUNNuz_4Xg-",
        "Kx7ZHc4Yn7Po",
        "rMEg4uCio0Gh",
        "YH6_K2bYsMKI",
        "OfQY41Kaszc-",
        "jF_9OjWNuGlQ",
        "aCk-0CRsvy1u",
        "f3iyESp9y7dM",
        "DOeLun5PzxPY",
        "Vz7rbC4M1b1V",
        "s-XuGoaC4JfJ",
        "UGoRIVJWBCbL"
      ]
    },
    "kernelspec": {
      "name": "python3",
      "display_name": "Python 3"
    },
    "language_info": {
      "name": "python"
    }
  },
  "cells": [
    {
      "cell_type": "code",
      "source": [
        "# import libraries\n",
        "\n",
        "import os\n",
        "import pandas as pd\n",
        "import numpy as np\n",
        "import requests\n",
        "import matplotlib.pyplot as plt\n",
        "import seaborn as sns\n",
        "\n",
        "from sklearn.preprocessing import StandardScaler\n",
        "from sklearn.model_selection import train_test_split\n",
        "import pickle\n",
        "\n",
        "import warnings\n",
        "warnings.filterwarnings('ignore')"
      ],
      "metadata": {
        "id": "UkGpFsgZjVOU"
      },
      "execution_count": 202,
      "outputs": []
    },
    {
      "cell_type": "markdown",
      "source": [
        "# Load data set"
      ],
      "metadata": {
        "id": "WdreTpQ0xmHP"
      }
    },
    {
      "cell_type": "code",
      "execution_count": 138,
      "metadata": {
        "id": "zFol0gKxh-A_"
      },
      "outputs": [],
      "source": [
        "# creating function that create folder and store the file in folder\n",
        "\n",
        "def load_data(path,urls):\n",
        "  dir=os.makedirs(path,exist_ok=True)\n",
        "\n",
        "  for url in urls:\n",
        "    data=requests.get(url).content\n",
        "    file_name=os.path.join(path,os.path.basename(url))\n",
        "    with open(file_name,'wb') as f:\n",
        "      f.write(data)\n",
        "\n",
        "\n",
        "# storing the urls in list\n",
        "urls = [\"https://archive.ics.uci.edu/ml/machine-learning-databases/adult/adult.data\",\n",
        "        \"https://archive.ics.uci.edu/ml/machine-learning-databases/adult/adult.names\",\n",
        "        \"https://archive.ics.uci.edu/ml/machine-learning-databases/adult/adult.test\"]\n",
        "\n",
        "# path where we create folder\n",
        "path='/content/drive/MyDrive/Census_data'\n",
        "\n",
        "\n",
        "# calling the function \n",
        "load_data(path,urls)\n"
      ]
    },
    {
      "cell_type": "markdown",
      "source": [
        "- We have created a function that downloads the  content from url and store it in file that is placed in folder"
      ],
      "metadata": {
        "id": "eb6b5Z4exn4m"
      }
    },
    {
      "cell_type": "code",
      "source": [
        "# extracting the features names from names file\n",
        "\n",
        "names=pd.read_csv('/content/drive/MyDrive/Census_data/adult.names',sep='delimeter', header=None)\n",
        "feature_columns=names[93:]\n",
        "feature_columns=feature_columns[0].str.split(':').str[0]\n",
        "columns_name=list(feature_columns)+['income']\n",
        "columns_name"
      ],
      "metadata": {
        "colab": {
          "base_uri": "https://localhost:8080/"
        },
        "id": "SghLWv5UlAhI",
        "outputId": "f492e6d7-4ccc-482f-c4f4-2bfce81af16a"
      },
      "execution_count": 139,
      "outputs": [
        {
          "output_type": "execute_result",
          "data": {
            "text/plain": [
              "['age',\n",
              " 'workclass',\n",
              " 'fnlwgt',\n",
              " 'education',\n",
              " 'education-num',\n",
              " 'marital-status',\n",
              " 'occupation',\n",
              " 'relationship',\n",
              " 'race',\n",
              " 'sex',\n",
              " 'capital-gain',\n",
              " 'capital-loss',\n",
              " 'hours-per-week',\n",
              " 'native-country',\n",
              " 'income']"
            ]
          },
          "metadata": {},
          "execution_count": 139
        }
      ]
    },
    {
      "cell_type": "code",
      "source": [
        "# reading the trainig and testing file\n",
        "\n",
        "train_data=pd.read_csv('/content/drive/MyDrive/Census_data/adult.data',names=columns_name,na_values='?',skipinitialspace=True)\n",
        "\n",
        "test_data=pd.read_csv('/content/drive/MyDrive/Census_data/adult.test',names=columns_name, skiprows=1,na_values='?',skipinitialspace=True)"
      ],
      "metadata": {
        "id": "7-LQlEtsoP-H"
      },
      "execution_count": 140,
      "outputs": []
    },
    {
      "cell_type": "markdown",
      "source": [
        "- We have some whitespaces and misleading data point (?).\n",
        "- We skip the whitespaces and fill nan inplace of ?.\n",
        "- In test data set the first row is weired so we skip it."
      ],
      "metadata": {
        "id": "UMExgEY2yEY2"
      }
    },
    {
      "cell_type": "code",
      "source": [
        "train_data.head()"
      ],
      "metadata": {
        "colab": {
          "base_uri": "https://localhost:8080/",
          "height": 444
        },
        "id": "MHRU337FxJ99",
        "outputId": "4d238688-82dc-437e-a3f6-8b323c5f0730"
      },
      "execution_count": 141,
      "outputs": [
        {
          "output_type": "execute_result",
          "data": {
            "text/plain": [
              "   age         workclass  fnlwgt  education  education-num  \\\n",
              "0   39         State-gov   77516  Bachelors             13   \n",
              "1   50  Self-emp-not-inc   83311  Bachelors             13   \n",
              "2   38           Private  215646    HS-grad              9   \n",
              "3   53           Private  234721       11th              7   \n",
              "4   28           Private  338409  Bachelors             13   \n",
              "\n",
              "       marital-status         occupation   relationship   race     sex  \\\n",
              "0       Never-married       Adm-clerical  Not-in-family  White    Male   \n",
              "1  Married-civ-spouse    Exec-managerial        Husband  White    Male   \n",
              "2            Divorced  Handlers-cleaners  Not-in-family  White    Male   \n",
              "3  Married-civ-spouse  Handlers-cleaners        Husband  Black    Male   \n",
              "4  Married-civ-spouse     Prof-specialty           Wife  Black  Female   \n",
              "\n",
              "   capital-gain  capital-loss  hours-per-week native-country income  \n",
              "0          2174             0              40  United-States  <=50K  \n",
              "1             0             0              13  United-States  <=50K  \n",
              "2             0             0              40  United-States  <=50K  \n",
              "3             0             0              40  United-States  <=50K  \n",
              "4             0             0              40           Cuba  <=50K  "
            ],
            "text/html": [
              "\n",
              "  <div id=\"df-c3943691-c074-46f3-9b69-fd34afa24d10\">\n",
              "    <div class=\"colab-df-container\">\n",
              "      <div>\n",
              "<style scoped>\n",
              "    .dataframe tbody tr th:only-of-type {\n",
              "        vertical-align: middle;\n",
              "    }\n",
              "\n",
              "    .dataframe tbody tr th {\n",
              "        vertical-align: top;\n",
              "    }\n",
              "\n",
              "    .dataframe thead th {\n",
              "        text-align: right;\n",
              "    }\n",
              "</style>\n",
              "<table border=\"1\" class=\"dataframe\">\n",
              "  <thead>\n",
              "    <tr style=\"text-align: right;\">\n",
              "      <th></th>\n",
              "      <th>age</th>\n",
              "      <th>workclass</th>\n",
              "      <th>fnlwgt</th>\n",
              "      <th>education</th>\n",
              "      <th>education-num</th>\n",
              "      <th>marital-status</th>\n",
              "      <th>occupation</th>\n",
              "      <th>relationship</th>\n",
              "      <th>race</th>\n",
              "      <th>sex</th>\n",
              "      <th>capital-gain</th>\n",
              "      <th>capital-loss</th>\n",
              "      <th>hours-per-week</th>\n",
              "      <th>native-country</th>\n",
              "      <th>income</th>\n",
              "    </tr>\n",
              "  </thead>\n",
              "  <tbody>\n",
              "    <tr>\n",
              "      <th>0</th>\n",
              "      <td>39</td>\n",
              "      <td>State-gov</td>\n",
              "      <td>77516</td>\n",
              "      <td>Bachelors</td>\n",
              "      <td>13</td>\n",
              "      <td>Never-married</td>\n",
              "      <td>Adm-clerical</td>\n",
              "      <td>Not-in-family</td>\n",
              "      <td>White</td>\n",
              "      <td>Male</td>\n",
              "      <td>2174</td>\n",
              "      <td>0</td>\n",
              "      <td>40</td>\n",
              "      <td>United-States</td>\n",
              "      <td>&lt;=50K</td>\n",
              "    </tr>\n",
              "    <tr>\n",
              "      <th>1</th>\n",
              "      <td>50</td>\n",
              "      <td>Self-emp-not-inc</td>\n",
              "      <td>83311</td>\n",
              "      <td>Bachelors</td>\n",
              "      <td>13</td>\n",
              "      <td>Married-civ-spouse</td>\n",
              "      <td>Exec-managerial</td>\n",
              "      <td>Husband</td>\n",
              "      <td>White</td>\n",
              "      <td>Male</td>\n",
              "      <td>0</td>\n",
              "      <td>0</td>\n",
              "      <td>13</td>\n",
              "      <td>United-States</td>\n",
              "      <td>&lt;=50K</td>\n",
              "    </tr>\n",
              "    <tr>\n",
              "      <th>2</th>\n",
              "      <td>38</td>\n",
              "      <td>Private</td>\n",
              "      <td>215646</td>\n",
              "      <td>HS-grad</td>\n",
              "      <td>9</td>\n",
              "      <td>Divorced</td>\n",
              "      <td>Handlers-cleaners</td>\n",
              "      <td>Not-in-family</td>\n",
              "      <td>White</td>\n",
              "      <td>Male</td>\n",
              "      <td>0</td>\n",
              "      <td>0</td>\n",
              "      <td>40</td>\n",
              "      <td>United-States</td>\n",
              "      <td>&lt;=50K</td>\n",
              "    </tr>\n",
              "    <tr>\n",
              "      <th>3</th>\n",
              "      <td>53</td>\n",
              "      <td>Private</td>\n",
              "      <td>234721</td>\n",
              "      <td>11th</td>\n",
              "      <td>7</td>\n",
              "      <td>Married-civ-spouse</td>\n",
              "      <td>Handlers-cleaners</td>\n",
              "      <td>Husband</td>\n",
              "      <td>Black</td>\n",
              "      <td>Male</td>\n",
              "      <td>0</td>\n",
              "      <td>0</td>\n",
              "      <td>40</td>\n",
              "      <td>United-States</td>\n",
              "      <td>&lt;=50K</td>\n",
              "    </tr>\n",
              "    <tr>\n",
              "      <th>4</th>\n",
              "      <td>28</td>\n",
              "      <td>Private</td>\n",
              "      <td>338409</td>\n",
              "      <td>Bachelors</td>\n",
              "      <td>13</td>\n",
              "      <td>Married-civ-spouse</td>\n",
              "      <td>Prof-specialty</td>\n",
              "      <td>Wife</td>\n",
              "      <td>Black</td>\n",
              "      <td>Female</td>\n",
              "      <td>0</td>\n",
              "      <td>0</td>\n",
              "      <td>40</td>\n",
              "      <td>Cuba</td>\n",
              "      <td>&lt;=50K</td>\n",
              "    </tr>\n",
              "  </tbody>\n",
              "</table>\n",
              "</div>\n",
              "      <button class=\"colab-df-convert\" onclick=\"convertToInteractive('df-c3943691-c074-46f3-9b69-fd34afa24d10')\"\n",
              "              title=\"Convert this dataframe to an interactive table.\"\n",
              "              style=\"display:none;\">\n",
              "        \n",
              "  <svg xmlns=\"http://www.w3.org/2000/svg\" height=\"24px\"viewBox=\"0 0 24 24\"\n",
              "       width=\"24px\">\n",
              "    <path d=\"M0 0h24v24H0V0z\" fill=\"none\"/>\n",
              "    <path d=\"M18.56 5.44l.94 2.06.94-2.06 2.06-.94-2.06-.94-.94-2.06-.94 2.06-2.06.94zm-11 1L8.5 8.5l.94-2.06 2.06-.94-2.06-.94L8.5 2.5l-.94 2.06-2.06.94zm10 10l.94 2.06.94-2.06 2.06-.94-2.06-.94-.94-2.06-.94 2.06-2.06.94z\"/><path d=\"M17.41 7.96l-1.37-1.37c-.4-.4-.92-.59-1.43-.59-.52 0-1.04.2-1.43.59L10.3 9.45l-7.72 7.72c-.78.78-.78 2.05 0 2.83L4 21.41c.39.39.9.59 1.41.59.51 0 1.02-.2 1.41-.59l7.78-7.78 2.81-2.81c.8-.78.8-2.07 0-2.86zM5.41 20L4 18.59l7.72-7.72 1.47 1.35L5.41 20z\"/>\n",
              "  </svg>\n",
              "      </button>\n",
              "      \n",
              "  <style>\n",
              "    .colab-df-container {\n",
              "      display:flex;\n",
              "      flex-wrap:wrap;\n",
              "      gap: 12px;\n",
              "    }\n",
              "\n",
              "    .colab-df-convert {\n",
              "      background-color: #E8F0FE;\n",
              "      border: none;\n",
              "      border-radius: 50%;\n",
              "      cursor: pointer;\n",
              "      display: none;\n",
              "      fill: #1967D2;\n",
              "      height: 32px;\n",
              "      padding: 0 0 0 0;\n",
              "      width: 32px;\n",
              "    }\n",
              "\n",
              "    .colab-df-convert:hover {\n",
              "      background-color: #E2EBFA;\n",
              "      box-shadow: 0px 1px 2px rgba(60, 64, 67, 0.3), 0px 1px 3px 1px rgba(60, 64, 67, 0.15);\n",
              "      fill: #174EA6;\n",
              "    }\n",
              "\n",
              "    [theme=dark] .colab-df-convert {\n",
              "      background-color: #3B4455;\n",
              "      fill: #D2E3FC;\n",
              "    }\n",
              "\n",
              "    [theme=dark] .colab-df-convert:hover {\n",
              "      background-color: #434B5C;\n",
              "      box-shadow: 0px 1px 3px 1px rgba(0, 0, 0, 0.15);\n",
              "      filter: drop-shadow(0px 1px 2px rgba(0, 0, 0, 0.3));\n",
              "      fill: #FFFFFF;\n",
              "    }\n",
              "  </style>\n",
              "\n",
              "      <script>\n",
              "        const buttonEl =\n",
              "          document.querySelector('#df-c3943691-c074-46f3-9b69-fd34afa24d10 button.colab-df-convert');\n",
              "        buttonEl.style.display =\n",
              "          google.colab.kernel.accessAllowed ? 'block' : 'none';\n",
              "\n",
              "        async function convertToInteractive(key) {\n",
              "          const element = document.querySelector('#df-c3943691-c074-46f3-9b69-fd34afa24d10');\n",
              "          const dataTable =\n",
              "            await google.colab.kernel.invokeFunction('convertToInteractive',\n",
              "                                                     [key], {});\n",
              "          if (!dataTable) return;\n",
              "\n",
              "          const docLinkHtml = 'Like what you see? Visit the ' +\n",
              "            '<a target=\"_blank\" href=https://colab.research.google.com/notebooks/data_table.ipynb>data table notebook</a>'\n",
              "            + ' to learn more about interactive tables.';\n",
              "          element.innerHTML = '';\n",
              "          dataTable['output_type'] = 'display_data';\n",
              "          await google.colab.output.renderOutput(dataTable, element);\n",
              "          const docLink = document.createElement('div');\n",
              "          docLink.innerHTML = docLinkHtml;\n",
              "          element.appendChild(docLink);\n",
              "        }\n",
              "      </script>\n",
              "    </div>\n",
              "  </div>\n",
              "  "
            ]
          },
          "metadata": {},
          "execution_count": 141
        }
      ]
    },
    {
      "cell_type": "markdown",
      "source": [
        "## Exploratory Data Analysis"
      ],
      "metadata": {
        "id": "rdPNd9Fbsjdt"
      }
    },
    {
      "cell_type": "code",
      "source": [
        "# shape of data set\n",
        "print('shape of trainig data set: ',train_data.shape)\n",
        "print('shape of testing data set: ',test_data.shape)"
      ],
      "metadata": {
        "colab": {
          "base_uri": "https://localhost:8080/"
        },
        "id": "BTIVVl0wo7yv",
        "outputId": "2f817b21-f56e-424d-d9b7-40fc627d8b4d"
      },
      "execution_count": 142,
      "outputs": [
        {
          "output_type": "stream",
          "name": "stdout",
          "text": [
            "shape of trainig data set:  (32561, 15)\n",
            "shape of testing data set:  (16281, 15)\n"
          ]
        }
      ]
    },
    {
      "cell_type": "markdown",
      "source": [
        "#### Renaming the columns names"
      ],
      "metadata": {
        "id": "mwO1e3hX-b8y"
      }
    },
    {
      "cell_type": "code",
      "source": [
        "# renaming the columns names of training and testing data set\n",
        "\n",
        "train_data.columns=train_data.columns.str.replace('-','_')\n",
        "train_data.columns=train_data.columns.str.replace(' ','_')\n",
        "\n",
        "test_data.columns=test_data.columns.str.replace('-','_')\n",
        "test_data.columns=test_data.columns.str.replace(' ','_')"
      ],
      "metadata": {
        "id": "ucN2d90Rs6ft"
      },
      "execution_count": 143,
      "outputs": []
    },
    {
      "cell_type": "code",
      "source": [
        "# printing the info\n",
        "\n",
        "train_data.info()"
      ],
      "metadata": {
        "colab": {
          "base_uri": "https://localhost:8080/"
        },
        "id": "2z6PMuNFtJyU",
        "outputId": "81b7b3b4-6248-42d6-b7e3-735abeaa30cc"
      },
      "execution_count": 144,
      "outputs": [
        {
          "output_type": "stream",
          "name": "stdout",
          "text": [
            "<class 'pandas.core.frame.DataFrame'>\n",
            "RangeIndex: 32561 entries, 0 to 32560\n",
            "Data columns (total 15 columns):\n",
            " #   Column          Non-Null Count  Dtype \n",
            "---  ------          --------------  ----- \n",
            " 0   age             32561 non-null  int64 \n",
            " 1   workclass       30725 non-null  object\n",
            " 2   fnlwgt          32561 non-null  int64 \n",
            " 3   education       32561 non-null  object\n",
            " 4   education_num   32561 non-null  int64 \n",
            " 5   marital_status  32561 non-null  object\n",
            " 6   occupation      30718 non-null  object\n",
            " 7   relationship    32561 non-null  object\n",
            " 8   race            32561 non-null  object\n",
            " 9   sex             32561 non-null  object\n",
            " 10  capital_gain    32561 non-null  int64 \n",
            " 11  capital_loss    32561 non-null  int64 \n",
            " 12  hours_per_week  32561 non-null  int64 \n",
            " 13  native_country  31978 non-null  object\n",
            " 14  income          32561 non-null  object\n",
            "dtypes: int64(6), object(9)\n",
            "memory usage: 3.7+ MB\n"
          ]
        }
      ]
    },
    {
      "cell_type": "code",
      "source": [
        "# checking the null values \n",
        "\n",
        "train_data.isnull().sum()"
      ],
      "metadata": {
        "colab": {
          "base_uri": "https://localhost:8080/"
        },
        "id": "nL0c4fpAuQnb",
        "outputId": "71212245-be69-4fab-a557-1aa338dcfe5a"
      },
      "execution_count": 145,
      "outputs": [
        {
          "output_type": "execute_result",
          "data": {
            "text/plain": [
              "age                  0\n",
              "workclass         1836\n",
              "fnlwgt               0\n",
              "education            0\n",
              "education_num        0\n",
              "marital_status       0\n",
              "occupation        1843\n",
              "relationship         0\n",
              "race                 0\n",
              "sex                  0\n",
              "capital_gain         0\n",
              "capital_loss         0\n",
              "hours_per_week       0\n",
              "native_country     583\n",
              "income               0\n",
              "dtype: int64"
            ]
          },
          "metadata": {},
          "execution_count": 145
        }
      ]
    },
    {
      "cell_type": "markdown",
      "source": [
        "### Summary of data set\n",
        "- We have training and testing data set\n",
        "- Training data set contain 32561 rows and 15 columns\n",
        "-While testing data set contain 16282 rows and 15 columns\n",
        "- Some columns are numerical and some are categorical \n",
        "- Workclass, occupation, and native_country columns contains null values\n",
        "\n",
        "#### education_num\n",
        "- Education_num column contains the numerical value that is corresponding to the education level\n",
        "- As an example 13 represent education level as Bachelor"
      ],
      "metadata": {
        "id": "z1lfyyG9yvbe"
      }
    },
    {
      "cell_type": "markdown",
      "source": [
        "## income column\n",
        "- We are replacing the <=50K class with 0 and >50K as1\n",
        "- It means the persons who earn less than or equal to 50K belongs to class 0 and who earns more than 50K belongs to class 1"
      ],
      "metadata": {
        "id": "rT87qPyeLmr-"
      }
    },
    {
      "cell_type": "code",
      "source": [
        "# Replcaing \n",
        "\n",
        "train_data['income']=train_data['income'].map({'<=50K':0,'>50K':1})\n",
        "test_data['income']=test_data['income'].map({'<=50K':0,'>50K':1})"
      ],
      "metadata": {
        "id": "zpt1rfoALir4"
      },
      "execution_count": 146,
      "outputs": []
    },
    {
      "cell_type": "markdown",
      "source": [
        "## Statistical analysis of numerical columns"
      ],
      "metadata": {
        "id": "q2YXabQAzo19"
      }
    },
    {
      "cell_type": "code",
      "source": [
        "\n",
        "train_data.describe()"
      ],
      "metadata": {
        "colab": {
          "base_uri": "https://localhost:8080/",
          "height": 344
        },
        "id": "2Jl6UJzjyvJe",
        "outputId": "3b76d8b7-1b41-464e-c11c-16ce3eba5799"
      },
      "execution_count": 147,
      "outputs": [
        {
          "output_type": "execute_result",
          "data": {
            "text/plain": [
              "                age        fnlwgt  education_num  capital_gain  capital_loss  \\\n",
              "count  32561.000000  3.256100e+04   32561.000000  32561.000000  32561.000000   \n",
              "mean      38.581647  1.897784e+05      10.080679   1077.648844     87.303830   \n",
              "std       13.640433  1.055500e+05       2.572720   7385.292085    402.960219   \n",
              "min       17.000000  1.228500e+04       1.000000      0.000000      0.000000   \n",
              "25%       28.000000  1.178270e+05       9.000000      0.000000      0.000000   \n",
              "50%       37.000000  1.783560e+05      10.000000      0.000000      0.000000   \n",
              "75%       48.000000  2.370510e+05      12.000000      0.000000      0.000000   \n",
              "max       90.000000  1.484705e+06      16.000000  99999.000000   4356.000000   \n",
              "\n",
              "       hours_per_week        income  \n",
              "count    32561.000000  32561.000000  \n",
              "mean        40.437456      0.240810  \n",
              "std         12.347429      0.427581  \n",
              "min          1.000000      0.000000  \n",
              "25%         40.000000      0.000000  \n",
              "50%         40.000000      0.000000  \n",
              "75%         45.000000      0.000000  \n",
              "max         99.000000      1.000000  "
            ],
            "text/html": [
              "\n",
              "  <div id=\"df-5bceaa51-a81c-43fc-8e1c-559482c8ee08\">\n",
              "    <div class=\"colab-df-container\">\n",
              "      <div>\n",
              "<style scoped>\n",
              "    .dataframe tbody tr th:only-of-type {\n",
              "        vertical-align: middle;\n",
              "    }\n",
              "\n",
              "    .dataframe tbody tr th {\n",
              "        vertical-align: top;\n",
              "    }\n",
              "\n",
              "    .dataframe thead th {\n",
              "        text-align: right;\n",
              "    }\n",
              "</style>\n",
              "<table border=\"1\" class=\"dataframe\">\n",
              "  <thead>\n",
              "    <tr style=\"text-align: right;\">\n",
              "      <th></th>\n",
              "      <th>age</th>\n",
              "      <th>fnlwgt</th>\n",
              "      <th>education_num</th>\n",
              "      <th>capital_gain</th>\n",
              "      <th>capital_loss</th>\n",
              "      <th>hours_per_week</th>\n",
              "      <th>income</th>\n",
              "    </tr>\n",
              "  </thead>\n",
              "  <tbody>\n",
              "    <tr>\n",
              "      <th>count</th>\n",
              "      <td>32561.000000</td>\n",
              "      <td>3.256100e+04</td>\n",
              "      <td>32561.000000</td>\n",
              "      <td>32561.000000</td>\n",
              "      <td>32561.000000</td>\n",
              "      <td>32561.000000</td>\n",
              "      <td>32561.000000</td>\n",
              "    </tr>\n",
              "    <tr>\n",
              "      <th>mean</th>\n",
              "      <td>38.581647</td>\n",
              "      <td>1.897784e+05</td>\n",
              "      <td>10.080679</td>\n",
              "      <td>1077.648844</td>\n",
              "      <td>87.303830</td>\n",
              "      <td>40.437456</td>\n",
              "      <td>0.240810</td>\n",
              "    </tr>\n",
              "    <tr>\n",
              "      <th>std</th>\n",
              "      <td>13.640433</td>\n",
              "      <td>1.055500e+05</td>\n",
              "      <td>2.572720</td>\n",
              "      <td>7385.292085</td>\n",
              "      <td>402.960219</td>\n",
              "      <td>12.347429</td>\n",
              "      <td>0.427581</td>\n",
              "    </tr>\n",
              "    <tr>\n",
              "      <th>min</th>\n",
              "      <td>17.000000</td>\n",
              "      <td>1.228500e+04</td>\n",
              "      <td>1.000000</td>\n",
              "      <td>0.000000</td>\n",
              "      <td>0.000000</td>\n",
              "      <td>1.000000</td>\n",
              "      <td>0.000000</td>\n",
              "    </tr>\n",
              "    <tr>\n",
              "      <th>25%</th>\n",
              "      <td>28.000000</td>\n",
              "      <td>1.178270e+05</td>\n",
              "      <td>9.000000</td>\n",
              "      <td>0.000000</td>\n",
              "      <td>0.000000</td>\n",
              "      <td>40.000000</td>\n",
              "      <td>0.000000</td>\n",
              "    </tr>\n",
              "    <tr>\n",
              "      <th>50%</th>\n",
              "      <td>37.000000</td>\n",
              "      <td>1.783560e+05</td>\n",
              "      <td>10.000000</td>\n",
              "      <td>0.000000</td>\n",
              "      <td>0.000000</td>\n",
              "      <td>40.000000</td>\n",
              "      <td>0.000000</td>\n",
              "    </tr>\n",
              "    <tr>\n",
              "      <th>75%</th>\n",
              "      <td>48.000000</td>\n",
              "      <td>2.370510e+05</td>\n",
              "      <td>12.000000</td>\n",
              "      <td>0.000000</td>\n",
              "      <td>0.000000</td>\n",
              "      <td>45.000000</td>\n",
              "      <td>0.000000</td>\n",
              "    </tr>\n",
              "    <tr>\n",
              "      <th>max</th>\n",
              "      <td>90.000000</td>\n",
              "      <td>1.484705e+06</td>\n",
              "      <td>16.000000</td>\n",
              "      <td>99999.000000</td>\n",
              "      <td>4356.000000</td>\n",
              "      <td>99.000000</td>\n",
              "      <td>1.000000</td>\n",
              "    </tr>\n",
              "  </tbody>\n",
              "</table>\n",
              "</div>\n",
              "      <button class=\"colab-df-convert\" onclick=\"convertToInteractive('df-5bceaa51-a81c-43fc-8e1c-559482c8ee08')\"\n",
              "              title=\"Convert this dataframe to an interactive table.\"\n",
              "              style=\"display:none;\">\n",
              "        \n",
              "  <svg xmlns=\"http://www.w3.org/2000/svg\" height=\"24px\"viewBox=\"0 0 24 24\"\n",
              "       width=\"24px\">\n",
              "    <path d=\"M0 0h24v24H0V0z\" fill=\"none\"/>\n",
              "    <path d=\"M18.56 5.44l.94 2.06.94-2.06 2.06-.94-2.06-.94-.94-2.06-.94 2.06-2.06.94zm-11 1L8.5 8.5l.94-2.06 2.06-.94-2.06-.94L8.5 2.5l-.94 2.06-2.06.94zm10 10l.94 2.06.94-2.06 2.06-.94-2.06-.94-.94-2.06-.94 2.06-2.06.94z\"/><path d=\"M17.41 7.96l-1.37-1.37c-.4-.4-.92-.59-1.43-.59-.52 0-1.04.2-1.43.59L10.3 9.45l-7.72 7.72c-.78.78-.78 2.05 0 2.83L4 21.41c.39.39.9.59 1.41.59.51 0 1.02-.2 1.41-.59l7.78-7.78 2.81-2.81c.8-.78.8-2.07 0-2.86zM5.41 20L4 18.59l7.72-7.72 1.47 1.35L5.41 20z\"/>\n",
              "  </svg>\n",
              "      </button>\n",
              "      \n",
              "  <style>\n",
              "    .colab-df-container {\n",
              "      display:flex;\n",
              "      flex-wrap:wrap;\n",
              "      gap: 12px;\n",
              "    }\n",
              "\n",
              "    .colab-df-convert {\n",
              "      background-color: #E8F0FE;\n",
              "      border: none;\n",
              "      border-radius: 50%;\n",
              "      cursor: pointer;\n",
              "      display: none;\n",
              "      fill: #1967D2;\n",
              "      height: 32px;\n",
              "      padding: 0 0 0 0;\n",
              "      width: 32px;\n",
              "    }\n",
              "\n",
              "    .colab-df-convert:hover {\n",
              "      background-color: #E2EBFA;\n",
              "      box-shadow: 0px 1px 2px rgba(60, 64, 67, 0.3), 0px 1px 3px 1px rgba(60, 64, 67, 0.15);\n",
              "      fill: #174EA6;\n",
              "    }\n",
              "\n",
              "    [theme=dark] .colab-df-convert {\n",
              "      background-color: #3B4455;\n",
              "      fill: #D2E3FC;\n",
              "    }\n",
              "\n",
              "    [theme=dark] .colab-df-convert:hover {\n",
              "      background-color: #434B5C;\n",
              "      box-shadow: 0px 1px 3px 1px rgba(0, 0, 0, 0.15);\n",
              "      filter: drop-shadow(0px 1px 2px rgba(0, 0, 0, 0.3));\n",
              "      fill: #FFFFFF;\n",
              "    }\n",
              "  </style>\n",
              "\n",
              "      <script>\n",
              "        const buttonEl =\n",
              "          document.querySelector('#df-5bceaa51-a81c-43fc-8e1c-559482c8ee08 button.colab-df-convert');\n",
              "        buttonEl.style.display =\n",
              "          google.colab.kernel.accessAllowed ? 'block' : 'none';\n",
              "\n",
              "        async function convertToInteractive(key) {\n",
              "          const element = document.querySelector('#df-5bceaa51-a81c-43fc-8e1c-559482c8ee08');\n",
              "          const dataTable =\n",
              "            await google.colab.kernel.invokeFunction('convertToInteractive',\n",
              "                                                     [key], {});\n",
              "          if (!dataTable) return;\n",
              "\n",
              "          const docLinkHtml = 'Like what you see? Visit the ' +\n",
              "            '<a target=\"_blank\" href=https://colab.research.google.com/notebooks/data_table.ipynb>data table notebook</a>'\n",
              "            + ' to learn more about interactive tables.';\n",
              "          element.innerHTML = '';\n",
              "          dataTable['output_type'] = 'display_data';\n",
              "          await google.colab.output.renderOutput(dataTable, element);\n",
              "          const docLink = document.createElement('div');\n",
              "          docLink.innerHTML = docLinkHtml;\n",
              "          element.appendChild(docLink);\n",
              "        }\n",
              "      </script>\n",
              "    </div>\n",
              "  </div>\n",
              "  "
            ]
          },
          "metadata": {},
          "execution_count": 147
        }
      ]
    },
    {
      "cell_type": "markdown",
      "source": [
        "#### Age column\n",
        "- The mean value of age attriubute is about 38 that indicate average age is 38 year\n",
        "- Age is having a standard deviation of 13.6 that indicate the deviation from mean is 13.6\n",
        "- The value of age attribute lie between 17 to 90\n",
        "- First quartile(Q1) of age attribute is 28 that indicates 25% of values lies below 28\n",
        "- Third quartile(Q3) of age atribute is 48 that indicates 75 % of values lie below 48\n",
        "- Difference between Q1 and minimum (28-17=11) is lesser than difference between Q3 and maximumn (90-48=42) that indicate there is some skewness or data in this column is rightly skewed\n"
      ],
      "metadata": {
        "id": "x3ffYioxz4vl"
      }
    },
    {
      "cell_type": "markdown",
      "source": [
        "## fnlwgt\n",
        "- This column represent the sampling weights\n",
        "-It seems rightly skewed because difference between minimum and median is lesser than difference between median and maximum."
      ],
      "metadata": {
        "id": "P_J3pT4077xl"
      }
    },
    {
      "cell_type": "markdown",
      "source": [
        "## capital_gain\n",
        "- The mean value for capital_gain is 1077.6 and the medain value is 0\n",
        "- Mean is very high than median, it shows data is highly right skewed\n",
        "- We can see 75% of  people have not any capitalgain or have capital gain equal to 0, that  means most of the value are centered to 0\n",
        "-The people who have capital gain more than zero lies between Q3 to maximum\n",
        "- It means either people have 0 gain or have higher gain\n"
      ],
      "metadata": {
        "id": "zBDyE1Oe8pY8"
      }
    },
    {
      "cell_type": "markdown",
      "source": [
        "## Capital_loss\n",
        "- The mean value for capital_loss is 87 and meadian is 0. It means data is highly right skewed\n",
        "- Here also 75 % of people have capital loss equals to 0.\n",
        "- People who have capital loss more tha 0 lies between Q3 to maximum\n",
        "- It means either people have 0 capital loss or have high capital loss"
      ],
      "metadata": {
        "id": "hItR8L7yAYgq"
      }
    },
    {
      "cell_type": "markdown",
      "source": [
        "### Hours_per_week\n",
        "- The mean value for hgours_per_week is 40.4 and standard deviation is 12.3\n",
        "- The minimum hours spent per week is 1 hour or maximum hours spent per week are 99 hours\n",
        "- The median and mean value are approximately same sothere may be chances that data is symetric"
      ],
      "metadata": {
        "id": "7wf5mm5HBxga"
      }
    },
    {
      "cell_type": "markdown",
      "source": [
        "## Statistical analysis of categorcal column"
      ],
      "metadata": {
        "id": "lSuEbYiRDUip"
      }
    },
    {
      "cell_type": "code",
      "source": [
        "cat_col=[col for col in train_data.columns if train_data[col].dtype=='O' ]\n",
        "train_data[cat_col].describe()\n",
        "\n",
        "# another way\n",
        "# train_data.describe(include='O')"
      ],
      "metadata": {
        "colab": {
          "base_uri": "https://localhost:8080/",
          "height": 175
        },
        "id": "R57_Phb477H1",
        "outputId": "66cf7ec6-e9fd-4418-987b-09cbdd7b710d"
      },
      "execution_count": 148,
      "outputs": [
        {
          "output_type": "execute_result",
          "data": {
            "text/plain": [
              "       workclass education      marital_status      occupation relationship  \\\n",
              "count      30725     32561               32561           30718        32561   \n",
              "unique         8        16                   7              14            6   \n",
              "top      Private   HS-grad  Married-civ-spouse  Prof-specialty      Husband   \n",
              "freq       22696     10501               14976            4140        13193   \n",
              "\n",
              "         race    sex native_country  \n",
              "count   32561  32561          31978  \n",
              "unique      5      2             41  \n",
              "top     White   Male  United-States  \n",
              "freq    27816  21790          29170  "
            ],
            "text/html": [
              "\n",
              "  <div id=\"df-9710d000-55cc-40b8-ae85-f0504bec064d\">\n",
              "    <div class=\"colab-df-container\">\n",
              "      <div>\n",
              "<style scoped>\n",
              "    .dataframe tbody tr th:only-of-type {\n",
              "        vertical-align: middle;\n",
              "    }\n",
              "\n",
              "    .dataframe tbody tr th {\n",
              "        vertical-align: top;\n",
              "    }\n",
              "\n",
              "    .dataframe thead th {\n",
              "        text-align: right;\n",
              "    }\n",
              "</style>\n",
              "<table border=\"1\" class=\"dataframe\">\n",
              "  <thead>\n",
              "    <tr style=\"text-align: right;\">\n",
              "      <th></th>\n",
              "      <th>workclass</th>\n",
              "      <th>education</th>\n",
              "      <th>marital_status</th>\n",
              "      <th>occupation</th>\n",
              "      <th>relationship</th>\n",
              "      <th>race</th>\n",
              "      <th>sex</th>\n",
              "      <th>native_country</th>\n",
              "    </tr>\n",
              "  </thead>\n",
              "  <tbody>\n",
              "    <tr>\n",
              "      <th>count</th>\n",
              "      <td>30725</td>\n",
              "      <td>32561</td>\n",
              "      <td>32561</td>\n",
              "      <td>30718</td>\n",
              "      <td>32561</td>\n",
              "      <td>32561</td>\n",
              "      <td>32561</td>\n",
              "      <td>31978</td>\n",
              "    </tr>\n",
              "    <tr>\n",
              "      <th>unique</th>\n",
              "      <td>8</td>\n",
              "      <td>16</td>\n",
              "      <td>7</td>\n",
              "      <td>14</td>\n",
              "      <td>6</td>\n",
              "      <td>5</td>\n",
              "      <td>2</td>\n",
              "      <td>41</td>\n",
              "    </tr>\n",
              "    <tr>\n",
              "      <th>top</th>\n",
              "      <td>Private</td>\n",
              "      <td>HS-grad</td>\n",
              "      <td>Married-civ-spouse</td>\n",
              "      <td>Prof-specialty</td>\n",
              "      <td>Husband</td>\n",
              "      <td>White</td>\n",
              "      <td>Male</td>\n",
              "      <td>United-States</td>\n",
              "    </tr>\n",
              "    <tr>\n",
              "      <th>freq</th>\n",
              "      <td>22696</td>\n",
              "      <td>10501</td>\n",
              "      <td>14976</td>\n",
              "      <td>4140</td>\n",
              "      <td>13193</td>\n",
              "      <td>27816</td>\n",
              "      <td>21790</td>\n",
              "      <td>29170</td>\n",
              "    </tr>\n",
              "  </tbody>\n",
              "</table>\n",
              "</div>\n",
              "      <button class=\"colab-df-convert\" onclick=\"convertToInteractive('df-9710d000-55cc-40b8-ae85-f0504bec064d')\"\n",
              "              title=\"Convert this dataframe to an interactive table.\"\n",
              "              style=\"display:none;\">\n",
              "        \n",
              "  <svg xmlns=\"http://www.w3.org/2000/svg\" height=\"24px\"viewBox=\"0 0 24 24\"\n",
              "       width=\"24px\">\n",
              "    <path d=\"M0 0h24v24H0V0z\" fill=\"none\"/>\n",
              "    <path d=\"M18.56 5.44l.94 2.06.94-2.06 2.06-.94-2.06-.94-.94-2.06-.94 2.06-2.06.94zm-11 1L8.5 8.5l.94-2.06 2.06-.94-2.06-.94L8.5 2.5l-.94 2.06-2.06.94zm10 10l.94 2.06.94-2.06 2.06-.94-2.06-.94-.94-2.06-.94 2.06-2.06.94z\"/><path d=\"M17.41 7.96l-1.37-1.37c-.4-.4-.92-.59-1.43-.59-.52 0-1.04.2-1.43.59L10.3 9.45l-7.72 7.72c-.78.78-.78 2.05 0 2.83L4 21.41c.39.39.9.59 1.41.59.51 0 1.02-.2 1.41-.59l7.78-7.78 2.81-2.81c.8-.78.8-2.07 0-2.86zM5.41 20L4 18.59l7.72-7.72 1.47 1.35L5.41 20z\"/>\n",
              "  </svg>\n",
              "      </button>\n",
              "      \n",
              "  <style>\n",
              "    .colab-df-container {\n",
              "      display:flex;\n",
              "      flex-wrap:wrap;\n",
              "      gap: 12px;\n",
              "    }\n",
              "\n",
              "    .colab-df-convert {\n",
              "      background-color: #E8F0FE;\n",
              "      border: none;\n",
              "      border-radius: 50%;\n",
              "      cursor: pointer;\n",
              "      display: none;\n",
              "      fill: #1967D2;\n",
              "      height: 32px;\n",
              "      padding: 0 0 0 0;\n",
              "      width: 32px;\n",
              "    }\n",
              "\n",
              "    .colab-df-convert:hover {\n",
              "      background-color: #E2EBFA;\n",
              "      box-shadow: 0px 1px 2px rgba(60, 64, 67, 0.3), 0px 1px 3px 1px rgba(60, 64, 67, 0.15);\n",
              "      fill: #174EA6;\n",
              "    }\n",
              "\n",
              "    [theme=dark] .colab-df-convert {\n",
              "      background-color: #3B4455;\n",
              "      fill: #D2E3FC;\n",
              "    }\n",
              "\n",
              "    [theme=dark] .colab-df-convert:hover {\n",
              "      background-color: #434B5C;\n",
              "      box-shadow: 0px 1px 3px 1px rgba(0, 0, 0, 0.15);\n",
              "      filter: drop-shadow(0px 1px 2px rgba(0, 0, 0, 0.3));\n",
              "      fill: #FFFFFF;\n",
              "    }\n",
              "  </style>\n",
              "\n",
              "      <script>\n",
              "        const buttonEl =\n",
              "          document.querySelector('#df-9710d000-55cc-40b8-ae85-f0504bec064d button.colab-df-convert');\n",
              "        buttonEl.style.display =\n",
              "          google.colab.kernel.accessAllowed ? 'block' : 'none';\n",
              "\n",
              "        async function convertToInteractive(key) {\n",
              "          const element = document.querySelector('#df-9710d000-55cc-40b8-ae85-f0504bec064d');\n",
              "          const dataTable =\n",
              "            await google.colab.kernel.invokeFunction('convertToInteractive',\n",
              "                                                     [key], {});\n",
              "          if (!dataTable) return;\n",
              "\n",
              "          const docLinkHtml = 'Like what you see? Visit the ' +\n",
              "            '<a target=\"_blank\" href=https://colab.research.google.com/notebooks/data_table.ipynb>data table notebook</a>'\n",
              "            + ' to learn more about interactive tables.';\n",
              "          element.innerHTML = '';\n",
              "          dataTable['output_type'] = 'display_data';\n",
              "          await google.colab.output.renderOutput(dataTable, element);\n",
              "          const docLink = document.createElement('div');\n",
              "          docLink.innerHTML = docLinkHtml;\n",
              "          element.appendChild(docLink);\n",
              "        }\n",
              "      </script>\n",
              "    </div>\n",
              "  </div>\n",
              "  "
            ]
          },
          "metadata": {},
          "execution_count": 148
        }
      ]
    },
    {
      "cell_type": "markdown",
      "source": [
        "## Workclass\n",
        "- There are 8 unique categories in workclass column\n",
        "- The top category in workclass is Private  with frequency of 22696\n",
        "\n",
        "## education\n",
        "- There are 16 unique  categories in education column\n",
        "- The top category is HS-grad with frequency of 1051\n",
        "\n",
        "## marital_status\n",
        "- marital_status column has 7 unique categories\n",
        "- Top category is married_civilian_spouse  with frequency of 14976\n",
        "\n",
        "## race\n",
        "- There are 5 caterogies in race column\n",
        "- Top category in race column is White  with frequency of 27816\n",
        "\n",
        "## sex\n",
        "- There are two category in sex column\n",
        "- Number of Males are  more than number of Female\n",
        "\n",
        "## native_country\n",
        "- Number of the peoples whoes native country is United-States are 29170 that is maximum among other cateogry\n"
      ],
      "metadata": {
        "id": "WLNEfjn8ElRB"
      }
    },
    {
      "cell_type": "markdown",
      "source": [
        "# Visualization"
      ],
      "metadata": {
        "id": "i9f1z3KKNarE"
      }
    },
    {
      "cell_type": "markdown",
      "source": [
        "### Distribution \n",
        "- Checking the distribution of numerical columns\n",
        "- Draw distplot to check distribution"
      ],
      "metadata": {
        "id": "AtBhJYbeNe-k"
      }
    },
    {
      "cell_type": "code",
      "source": [
        "num_col=[col for col in train_data.columns if train_data[col].dtype!='O']\n",
        "num_col"
      ],
      "metadata": {
        "colab": {
          "base_uri": "https://localhost:8080/"
        },
        "id": "EC1lbw7REg4Y",
        "outputId": "935a6f76-f363-44eb-867d-fe8a012122c5"
      },
      "execution_count": 149,
      "outputs": [
        {
          "output_type": "execute_result",
          "data": {
            "text/plain": [
              "['age',\n",
              " 'fnlwgt',\n",
              " 'education_num',\n",
              " 'capital_gain',\n",
              " 'capital_loss',\n",
              " 'hours_per_week',\n",
              " 'income']"
            ]
          },
          "metadata": {},
          "execution_count": 149
        }
      ]
    },
    {
      "cell_type": "code",
      "source": [
        "fig,axes=plt.subplots(2,3,figsize=(20,10))\n",
        "axes=axes.flatten()\n",
        "\n",
        "sns.distplot(ax=axes[0],a=train_data['age'])\n",
        "\n",
        "sns.distplot(ax=axes[1],a=train_data['fnlwgt'])\n",
        "\n",
        "sns.distplot(ax=axes[2],a=train_data['education_num'])\n",
        "\n",
        "sns.distplot(ax=axes[3],a=train_data['capital_gain'])\n",
        "\n",
        "sns.distplot(ax=axes[4],a=train_data['capital_loss'])\n",
        "\n",
        "sns.distplot(ax=axes[5],a=train_data['hours_per_week'])\n"
      ],
      "metadata": {
        "colab": {
          "base_uri": "https://localhost:8080/",
          "height": 463
        },
        "id": "6Ln_vTqNNWhl",
        "outputId": "9aca8edf-5562-4438-f47c-c01e579464d9"
      },
      "execution_count": 150,
      "outputs": [
        {
          "output_type": "execute_result",
          "data": {
            "text/plain": [
              "<matplotlib.axes._subplots.AxesSubplot at 0x7f2ad18b1b90>"
            ]
          },
          "metadata": {},
          "execution_count": 150
        },
        {
          "output_type": "display_data",
          "data": {
            "text/plain": [
              "<Figure size 1440x720 with 6 Axes>"
            ],
            "image/png": "[encoded data removed]"
          },
          "metadata": {
            "needs_background": "light"
          }
        }
      ]
    },
    {
      "cell_type": "code",
      "source": [
        "# we also plot histogram to see the distribution\n",
        "\n",
        "fig,axes=plt.subplots(2,3,figsize=(20,10))\n",
        "axes=axes.flatten()\n",
        "train_data['age'].hist(ax=axes[0])\n",
        "axes[0].set_title('Age distribution')\n",
        "\n",
        "train_data['fnlwgt'].hist(ax=axes[1])\n",
        "axes[1].set_title('fnlwgt distribution')\n",
        "\n",
        "train_data['education_num'].hist(ax=axes[2])\n",
        "axes[2].set_title('education_num distribution')\n",
        "\n",
        "train_data['capital_gain'].hist(ax=axes[3])\n",
        "axes[3].set_title('capital_gain distribution')\n",
        "\n",
        "train_data['capital_loss'].hist(ax=axes[4])\n",
        "axes[4].set_title('capital_loss distribution')\n",
        "\n",
        "train_data['hours_per_week'].hist(ax=axes[5])\n",
        "axes[5].set_title('hours_per_week distribution')\n"
      ],
      "metadata": {
        "colab": {
          "base_uri": "https://localhost:8080/",
          "height": 464
        },
        "id": "FpBHABUwPSIc",
        "outputId": "e41866ff-cb1f-425c-9c0a-a139f95892a1"
      },
      "execution_count": 151,
      "outputs": [
        {
          "output_type": "execute_result",
          "data": {
            "text/plain": [
              "Text(0.5, 1.0, 'hours_per_week distribution')"
            ]
          },
          "metadata": {},
          "execution_count": 151
        },
        {
          "output_type": "display_data",
          "data": {
            "text/plain": [
              "<Figure size 1440x720 with 6 Axes>"
            ],
            "image/png": "[encoded data removed]"
          },
          "metadata": {
            "needs_background": "light"
          }
        }
      ]
    },
    {
      "cell_type": "markdown",
      "source": [
        "## Analysis of distrubution\n",
        "### Age\n",
        "- The distribution of age column is not symmetric\n",
        "- It seems right skewed ( It is tottaly fine because younger person earn) more than olders\n",
        "\n",
        "### fnlwgt\n",
        "- fnwlgt represent sample weights\n",
        "- The distribution of fnwlgt looks rightly skewed\n",
        "\n",
        "### capital_gain\n",
        "- Most of values are centered on 0\n",
        "- It shows either people have 0 gain or higher gain\n",
        "\n",
        "\n",
        "\n",
        "### capital_loss\n",
        "- Same as capitla_gain most of the values of capitla loss are centered on 0\n",
        "- It also shows either people has 0 loss or have higher loss\n",
        "\n",
        "### hours_per_week\n",
        "- Most of the people are working between 30 to 40 hours per week\n",
        "- There are some people who are working between 80 t0 99 hours per week which is unusual\n"
      ],
      "metadata": {
        "id": "iz-D_T3rhrP_"
      }
    },
    {
      "cell_type": "code",
      "source": [],
      "metadata": {
        "id": "5BPJhAX2gYq_"
      },
      "execution_count": 151,
      "outputs": []
    },
    {
      "cell_type": "markdown",
      "source": [
        "# Countplot for categorical columns\n",
        "- We plot countplots to analyse categorical columns"
      ],
      "metadata": {
        "id": "7ICwhVFWlW--"
      }
    },
    {
      "cell_type": "code",
      "source": [
        "# name of the categorical columns\n",
        "\n",
        "cat_col"
      ],
      "metadata": {
        "colab": {
          "base_uri": "https://localhost:8080/"
        },
        "id": "_3kR_Y4VlZ-2",
        "outputId": "8f59b288-9e29-4616-d745-045eb406ecd4"
      },
      "execution_count": 152,
      "outputs": [
        {
          "output_type": "execute_result",
          "data": {
            "text/plain": [
              "['workclass',\n",
              " 'education',\n",
              " 'marital_status',\n",
              " 'occupation',\n",
              " 'relationship',\n",
              " 'race',\n",
              " 'sex',\n",
              " 'native_country']"
            ]
          },
          "metadata": {},
          "execution_count": 152
        }
      ]
    },
    {
      "cell_type": "markdown",
      "source": [
        "### Workclass"
      ],
      "metadata": {
        "id": "jcGfVJm0uW3m"
      }
    },
    {
      "cell_type": "code",
      "source": [
        "plt.figure(figsize=(12,8))\n",
        "total = float(len(train_data[\"income\"]) )\n",
        "\n",
        "ax = sns.countplot(x=\"workclass\", data=train_data)\n",
        "for p in ax.patches:\n",
        "    height = p.get_height()\n",
        "    ax.text(p.get_x()+p.get_width()/2.,\n",
        "            height + 5,\n",
        "            '{:1.2f}'.format((height/total)*100),\n",
        "            ha=\"center\") \n",
        "plt.show()"
      ],
      "metadata": {
        "id": "7j_tRAoYmpUN",
        "colab": {
          "base_uri": "https://localhost:8080/",
          "height": 497
        },
        "outputId": "66e1c97d-5a0e-49df-d248-187cd7b8a38a"
      },
      "execution_count": 153,
      "outputs": [
        {
          "output_type": "display_data",
          "data": {
            "text/plain": [
              "<Figure size 864x576 with 1 Axes>"
            ],
            "image/png": "[encoded data removed]"
          },
          "metadata": {
            "needs_background": "light"
          }
        }
      ]
    },
    {
      "cell_type": "markdown",
      "source": [
        "### Description for workclass \n",
        "- There are 8 unique categories in workclass\n",
        "- About 69.70 % of people belongs to Private workclass\n",
        "- Count for without-pay and Never-worked is minimum\n"
      ],
      "metadata": {
        "id": "0bgzs1Lvuad-"
      }
    },
    {
      "cell_type": "markdown",
      "source": [
        "### Education"
      ],
      "metadata": {
        "id": "9TlA9BZ7w7XG"
      }
    },
    {
      "cell_type": "code",
      "source": [
        "plt.figure(figsize=(25,8))\n",
        "\n",
        "total=len(train_data['income'])\n",
        "\n",
        "ax=sns.countplot(x='education',data=train_data)\n",
        "\n",
        "for p in ax.patches:\n",
        "  height=p.get_height()\n",
        "  ax.text(p.get_x()+p.get_width()/2.,height+5,\n",
        "          '{:1.2f}'.format(100*height/total),\n",
        "          ha='center')"
      ],
      "metadata": {
        "colab": {
          "base_uri": "https://localhost:8080/",
          "height": 296
        },
        "id": "5qaStxU_py8X",
        "outputId": "58ba75af-a5ae-4b2f-963d-59d91b959ffe"
      },
      "execution_count": 154,
      "outputs": [
        {
          "output_type": "display_data",
          "data": {
            "text/plain": [
              "<Figure size 1800x576 with 1 Axes>"
            ],
            "image/png": "[encoded data removed]"
          },
          "metadata": {
            "needs_background": "light"
          }
        }
      ]
    },
    {
      "cell_type": "markdown",
      "source": [
        "### Description for education attribute\n",
        "- There are 16 categories in education attribute\n",
        "- 32.25% of the people done Hs-grad in education that is maximum\n",
        "- Preschool category has minimum observation"
      ],
      "metadata": {
        "id": "_8KCXsuQxF6F"
      }
    },
    {
      "cell_type": "markdown",
      "source": [
        "### Marital Status"
      ],
      "metadata": {
        "id": "bvyuoAccyYEt"
      }
    },
    {
      "cell_type": "code",
      "source": [
        "plt.figure(figsize=(16,8))\n",
        "\n",
        "total=len(train_data['income'])\n",
        "\n",
        "ax=sns.countplot(x='marital_status',data=train_data)\n",
        "\n",
        "for p in ax.patches:\n",
        "  height=p.get_height()\n",
        "  ax.text(p.get_x()+p.get_width()/2.,height+5,\n",
        "          '{:1.2f}'.format(100*height/total),\n",
        "          ha='center')"
      ],
      "metadata": {
        "colab": {
          "base_uri": "https://localhost:8080/",
          "height": 443
        },
        "id": "Z1P3xbeOyXj-",
        "outputId": "fc021e71-05d9-44b2-ee69-e5f5ba624cf8"
      },
      "execution_count": 155,
      "outputs": [
        {
          "output_type": "display_data",
          "data": {
            "text/plain": [
              "<Figure size 1152x576 with 1 Axes>"
            ],
            "image/png": "[encoded data removed]"
          },
          "metadata": {
            "needs_background": "light"
          }
        }
      ]
    },
    {
      "cell_type": "markdown",
      "source": [
        "### Description for marital status\n",
        "- There are 7 categories in marital staus attribute\n",
        "- Married-civilian-spouse has maximum number of observation followed by Never-married category\n",
        "- Married-Armed-Force-spouce has minimum observation"
      ],
      "metadata": {
        "id": "9GjN7UGhyjrX"
      }
    },
    {
      "cell_type": "markdown",
      "source": [
        "### Occupation"
      ],
      "metadata": {
        "id": "IHbjTGf0zVE3"
      }
    },
    {
      "cell_type": "code",
      "source": [
        "plt.figure(figsize=(25,8))\n",
        "\n",
        "total=len(train_data['income'])\n",
        "\n",
        "ax=sns.countplot(x='occupation',data=train_data)\n",
        "\n",
        "for p in ax.patches:\n",
        "  height=p.get_height()\n",
        "  ax.text(p.get_x()+p.get_width()/2.,height+5,\n",
        "          '{:1.2f}'.format(100*height/total),\n",
        "          ha='center')"
      ],
      "metadata": {
        "colab": {
          "base_uri": "https://localhost:8080/",
          "height": 297
        },
        "id": "zpSbzu6OtErO",
        "outputId": "f5923035-4512-4db5-d60c-c5ff6e27a59c"
      },
      "execution_count": 156,
      "outputs": [
        {
          "output_type": "display_data",
          "data": {
            "text/plain": [
              "<Figure size 1800x576 with 1 Axes>"
            ],
            "image/png": "[encoded data removed]"
          },
          "metadata": {
            "needs_background": "light"
          }
        }
      ]
    },
    {
      "cell_type": "markdown",
      "source": [
        "### Description for occupation attribute\n",
        "\n",
        "- There are 14 unique categories in occupation attribute\n",
        "- Prof-speciality has maximum number of observation. It contains 12.71 % of the observations\n",
        "- Armed-Forces has minimum number of observations"
      ],
      "metadata": {
        "id": "xsThYs4Pzn0e"
      }
    },
    {
      "cell_type": "markdown",
      "source": [
        "### Relationship\n"
      ],
      "metadata": {
        "id": "vxQW_apQzZme"
      }
    },
    {
      "cell_type": "code",
      "source": [
        "plt.figure(figsize=(25,8))\n",
        "\n",
        "total=len(train_data['income'])\n",
        "\n",
        "ax=sns.countplot(x='relationship',data=train_data)\n",
        "\n",
        "for p in ax.patches:\n",
        "  height=p.get_height()\n",
        "  ax.text(p.get_x()+p.get_width()/2.,height+5,\n",
        "          '{:1.2f}'.format(100*height/total),\n",
        "          ha='center')"
      ],
      "metadata": {
        "colab": {
          "base_uri": "https://localhost:8080/",
          "height": 296
        },
        "id": "P4oJU_-3zYw-",
        "outputId": "8c3baa93-33bc-4aba-d654-bf41e2d1cf1a"
      },
      "execution_count": 157,
      "outputs": [
        {
          "output_type": "display_data",
          "data": {
            "text/plain": [
              "<Figure size 1800x576 with 1 Axes>"
            ],
            "image/png": "[encoded data removed]"
          },
          "metadata": {
            "needs_background": "light"
          }
        }
      ]
    },
    {
      "cell_type": "markdown",
      "source": [
        "### Description for relationship attribute\n",
        "- There are 6 unique categories in relationship attribute\n",
        "- Husband category has maximum number of observations. It contains 40.52 % of the observations\n",
        "- Other-relative category contains minimum number of obseervations"
      ],
      "metadata": {
        "id": "UzaNhaP_0z6P"
      }
    },
    {
      "cell_type": "markdown",
      "source": [
        "### Race"
      ],
      "metadata": {
        "id": "Z-rIJJ5L1ZyG"
      }
    },
    {
      "cell_type": "code",
      "source": [
        "plt.figure(figsize=(20,8))\n",
        "\n",
        "total=len(train_data['income'])\n",
        "\n",
        "ax=sns.countplot(x='race',data=train_data)\n",
        "\n",
        "for p in ax.patches:\n",
        "  height=p.get_height()\n",
        "  ax.text(p.get_x()+p.get_width()/2.,height+5,\n",
        "          '{:1.2f}'.format(100*height/total),\n",
        "          ha='center')"
      ],
      "metadata": {
        "colab": {
          "base_uri": "https://localhost:8080/",
          "height": 362
        },
        "id": "PkAHcGIy0yDe",
        "outputId": "14b6f97d-9337-45c3-f65c-0a9d2b9e550a"
      },
      "execution_count": 158,
      "outputs": [
        {
          "output_type": "display_data",
          "data": {
            "text/plain": [
              "<Figure size 1440x576 with 1 Axes>"
            ],
            "image/png": "[encoded data removed]"
          },
          "metadata": {
            "needs_background": "light"
          }
        }
      ]
    },
    {
      "cell_type": "markdown",
      "source": [
        "### Description for race attribute\n",
        "- There are 5 unique categories in race attribute\n",
        "- Maximum number of people (approximate 85 %) belongs to White class\n",
        "- Other class contains minimum number of observations"
      ],
      "metadata": {
        "id": "R-ATI_cl1c9w"
      }
    },
    {
      "cell_type": "markdown",
      "source": [
        "### Sex\n"
      ],
      "metadata": {
        "id": "9r-BSl8s2RuW"
      }
    },
    {
      "cell_type": "code",
      "source": [
        "plt.figure(figsize=(10,6))\n",
        "\n",
        "total=len(train_data['income'])\n",
        "\n",
        "ax=sns.countplot(x='sex',data=train_data)\n",
        "\n",
        "for p in ax.patches:\n",
        "  height=p.get_height()\n",
        "  ax.text(p.get_x()+p.get_width()/2.,height+5,\n",
        "          '{:1.2f}'.format(100*height/total),\n",
        "          ha='center')"
      ],
      "metadata": {
        "colab": {
          "base_uri": "https://localhost:8080/",
          "height": 388
        },
        "id": "T3jFKstH2ZSm",
        "outputId": "23ad4360-bf9b-4469-f9b7-5d37f15f27c9"
      },
      "execution_count": 159,
      "outputs": [
        {
          "output_type": "display_data",
          "data": {
            "text/plain": [
              "<Figure size 720x432 with 1 Axes>"
            ],
            "image/png": "[encoded data removed]"
          },
          "metadata": {
            "needs_background": "light"
          }
        }
      ]
    },
    {
      "cell_type": "markdown",
      "source": [
        "### Description for sex attribute\n",
        "- There are 2 categories in sex attribute\n",
        "- Male class has maximum number of observations. It contains approximate 67 % of the observations "
      ],
      "metadata": {
        "id": "tDuLYkOb2iq5"
      }
    },
    {
      "cell_type": "markdown",
      "source": [
        "### Native country"
      ],
      "metadata": {
        "id": "EkoP9mIA3LEn"
      }
    },
    {
      "cell_type": "code",
      "source": [
        "plt.figure(figsize=(16,10))\n",
        "\n",
        "ax=sns.countplot(y='native_country',data=train_data)"
      ],
      "metadata": {
        "colab": {
          "base_uri": "https://localhost:8080/",
          "height": 484
        },
        "id": "OWg5Zx-L3OaO",
        "outputId": "396115dc-c8b6-4579-f324-8c9884488ebe"
      },
      "execution_count": 160,
      "outputs": [
        {
          "output_type": "display_data",
          "data": {
            "text/plain": [
              "<Figure size 1152x720 with 1 Axes>"
            ],
            "image/png": "[encoded data removed]"
          },
          "metadata": {
            "needs_background": "light"
          }
        }
      ]
    },
    {
      "cell_type": "markdown",
      "source": [
        "### Description for native country atribute\n",
        "- Most of the peoples have their country as United States followed by Mexico"
      ],
      "metadata": {
        "id": "kVwwJRqX3elF"
      }
    },
    {
      "cell_type": "markdown",
      "source": [
        "### Income "
      ],
      "metadata": {
        "id": "z9JTVFWq4U3I"
      }
    },
    {
      "cell_type": "code",
      "source": [
        "plt.figure(figsize=(10,6))\n",
        "\n",
        "total=len(train_data['income'])\n",
        "\n",
        "ax=sns.countplot(x='income',data=train_data)\n",
        "\n",
        "for p in ax.patches:\n",
        "  height=p.get_height()\n",
        "  ax.text(p.get_x()+p.get_width()/2.,height+5,\n",
        "          '{:1.2f}'.format(100*height/total),\n",
        "          ha='center')"
      ],
      "metadata": {
        "colab": {
          "base_uri": "https://localhost:8080/",
          "height": 388
        },
        "id": "VEmJJWZ72D9m",
        "outputId": "5efff781-889d-4cb1-e858-f36ef54cbb6e"
      },
      "execution_count": 161,
      "outputs": [
        {
          "output_type": "display_data",
          "data": {
            "text/plain": [
              "<Figure size 720x432 with 1 Axes>"
            ],
            "image/png": "[encoded data removed]"
          },
          "metadata": {
            "needs_background": "light"
          }
        }
      ]
    },
    {
      "cell_type": "markdown",
      "source": [
        "### Description about income\n",
        "- Approximate 76 % of the peoples belongs to the category who earn less than 50K\n",
        "- Only 24 % of the peoples are able to earn more than 50K and belongs to class 1\n",
        "- We can see the data is imbalanced "
      ],
      "metadata": {
        "id": "NlUNNuz_4Xg-"
      }
    },
    {
      "cell_type": "markdown",
      "source": [
        "### Bivariate analysis"
      ],
      "metadata": {
        "id": "Kx7ZHc4Yn7Po"
      }
    },
    {
      "cell_type": "markdown",
      "source": [
        "## income and age"
      ],
      "metadata": {
        "id": "En6-xFTjrrgK"
      }
    },
    {
      "cell_type": "code",
      "source": [
        "train_data.head()"
      ],
      "metadata": {
        "id": "n86GuC_y2Tbl",
        "colab": {
          "base_uri": "https://localhost:8080/",
          "height": 357
        },
        "outputId": "d9337f39-e8b4-43d2-f626-74e63b7dd12c"
      },
      "execution_count": 162,
      "outputs": [
        {
          "output_type": "execute_result",
          "data": {
            "text/plain": [
              "   age         workclass  fnlwgt  education  education_num  \\\n",
              "0   39         State-gov   77516  Bachelors             13   \n",
              "1   50  Self-emp-not-inc   83311  Bachelors             13   \n",
              "2   38           Private  215646    HS-grad              9   \n",
              "3   53           Private  234721       11th              7   \n",
              "4   28           Private  338409  Bachelors             13   \n",
              "\n",
              "       marital_status         occupation   relationship   race     sex  \\\n",
              "0       Never-married       Adm-clerical  Not-in-family  White    Male   \n",
              "1  Married-civ-spouse    Exec-managerial        Husband  White    Male   \n",
              "2            Divorced  Handlers-cleaners  Not-in-family  White    Male   \n",
              "3  Married-civ-spouse  Handlers-cleaners        Husband  Black    Male   \n",
              "4  Married-civ-spouse     Prof-specialty           Wife  Black  Female   \n",
              "\n",
              "   capital_gain  capital_loss  hours_per_week native_country  income  \n",
              "0          2174             0              40  United-States       0  \n",
              "1             0             0              13  United-States       0  \n",
              "2             0             0              40  United-States       0  \n",
              "3             0             0              40  United-States       0  \n",
              "4             0             0              40           Cuba       0  "
            ],
            "text/html": [
              "\n",
              "  <div id=\"df-80fbd40e-5efb-4d74-be2a-686a372f196b\">\n",
              "    <div class=\"colab-df-container\">\n",
              "      <div>\n",
              "<style scoped>\n",
              "    .dataframe tbody tr th:only-of-type {\n",
              "        vertical-align: middle;\n",
              "    }\n",
              "\n",
              "    .dataframe tbody tr th {\n",
              "        vertical-align: top;\n",
              "    }\n",
              "\n",
              "    .dataframe thead th {\n",
              "        text-align: right;\n",
              "    }\n",
              "</style>\n",
              "<table border=\"1\" class=\"dataframe\">\n",
              "  <thead>\n",
              "    <tr style=\"text-align: right;\">\n",
              "      <th></th>\n",
              "      <th>age</th>\n",
              "      <th>workclass</th>\n",
              "      <th>fnlwgt</th>\n",
              "      <th>education</th>\n",
              "      <th>education_num</th>\n",
              "      <th>marital_status</th>\n",
              "      <th>occupation</th>\n",
              "      <th>relationship</th>\n",
              "      <th>race</th>\n",
              "      <th>sex</th>\n",
              "      <th>capital_gain</th>\n",
              "      <th>capital_loss</th>\n",
              "      <th>hours_per_week</th>\n",
              "      <th>native_country</th>\n",
              "      <th>income</th>\n",
              "    </tr>\n",
              "  </thead>\n",
              "  <tbody>\n",
              "    <tr>\n",
              "      <th>0</th>\n",
              "      <td>39</td>\n",
              "      <td>State-gov</td>\n",
              "      <td>77516</td>\n",
              "      <td>Bachelors</td>\n",
              "      <td>13</td>\n",
              "      <td>Never-married</td>\n",
              "      <td>Adm-clerical</td>\n",
              "      <td>Not-in-family</td>\n",
              "      <td>White</td>\n",
              "      <td>Male</td>\n",
              "      <td>2174</td>\n",
              "      <td>0</td>\n",
              "      <td>40</td>\n",
              "      <td>United-States</td>\n",
              "      <td>0</td>\n",
              "    </tr>\n",
              "    <tr>\n",
              "      <th>1</th>\n",
              "      <td>50</td>\n",
              "      <td>Self-emp-not-inc</td>\n",
              "      <td>83311</td>\n",
              "      <td>Bachelors</td>\n",
              "      <td>13</td>\n",
              "      <td>Married-civ-spouse</td>\n",
              "      <td>Exec-managerial</td>\n",
              "      <td>Husband</td>\n",
              "      <td>White</td>\n",
              "      <td>Male</td>\n",
              "      <td>0</td>\n",
              "      <td>0</td>\n",
              "      <td>13</td>\n",
              "      <td>United-States</td>\n",
              "      <td>0</td>\n",
              "    </tr>\n",
              "    <tr>\n",
              "      <th>2</th>\n",
              "      <td>38</td>\n",
              "      <td>Private</td>\n",
              "      <td>215646</td>\n",
              "      <td>HS-grad</td>\n",
              "      <td>9</td>\n",
              "      <td>Divorced</td>\n",
              "      <td>Handlers-cleaners</td>\n",
              "      <td>Not-in-family</td>\n",
              "      <td>White</td>\n",
              "      <td>Male</td>\n",
              "      <td>0</td>\n",
              "      <td>0</td>\n",
              "      <td>40</td>\n",
              "      <td>United-States</td>\n",
              "      <td>0</td>\n",
              "    </tr>\n",
              "    <tr>\n",
              "      <th>3</th>\n",
              "      <td>53</td>\n",
              "      <td>Private</td>\n",
              "      <td>234721</td>\n",
              "      <td>11th</td>\n",
              "      <td>7</td>\n",
              "      <td>Married-civ-spouse</td>\n",
              "      <td>Handlers-cleaners</td>\n",
              "      <td>Husband</td>\n",
              "      <td>Black</td>\n",
              "      <td>Male</td>\n",
              "      <td>0</td>\n",
              "      <td>0</td>\n",
              "      <td>40</td>\n",
              "      <td>United-States</td>\n",
              "      <td>0</td>\n",
              "    </tr>\n",
              "    <tr>\n",
              "      <th>4</th>\n",
              "      <td>28</td>\n",
              "      <td>Private</td>\n",
              "      <td>338409</td>\n",
              "      <td>Bachelors</td>\n",
              "      <td>13</td>\n",
              "      <td>Married-civ-spouse</td>\n",
              "      <td>Prof-specialty</td>\n",
              "      <td>Wife</td>\n",
              "      <td>Black</td>\n",
              "      <td>Female</td>\n",
              "      <td>0</td>\n",
              "      <td>0</td>\n",
              "      <td>40</td>\n",
              "      <td>Cuba</td>\n",
              "      <td>0</td>\n",
              "    </tr>\n",
              "  </tbody>\n",
              "</table>\n",
              "</div>\n",
              "      <button class=\"colab-df-convert\" onclick=\"convertToInteractive('df-80fbd40e-5efb-4d74-be2a-686a372f196b')\"\n",
              "              title=\"Convert this dataframe to an interactive table.\"\n",
              "              style=\"display:none;\">\n",
              "        \n",
              "  <svg xmlns=\"http://www.w3.org/2000/svg\" height=\"24px\"viewBox=\"0 0 24 24\"\n",
              "       width=\"24px\">\n",
              "    <path d=\"M0 0h24v24H0V0z\" fill=\"none\"/>\n",
              "    <path d=\"M18.56 5.44l.94 2.06.94-2.06 2.06-.94-2.06-.94-.94-2.06-.94 2.06-2.06.94zm-11 1L8.5 8.5l.94-2.06 2.06-.94-2.06-.94L8.5 2.5l-.94 2.06-2.06.94zm10 10l.94 2.06.94-2.06 2.06-.94-2.06-.94-.94-2.06-.94 2.06-2.06.94z\"/><path d=\"M17.41 7.96l-1.37-1.37c-.4-.4-.92-.59-1.43-.59-.52 0-1.04.2-1.43.59L10.3 9.45l-7.72 7.72c-.78.78-.78 2.05 0 2.83L4 21.41c.39.39.9.59 1.41.59.51 0 1.02-.2 1.41-.59l7.78-7.78 2.81-2.81c.8-.78.8-2.07 0-2.86zM5.41 20L4 18.59l7.72-7.72 1.47 1.35L5.41 20z\"/>\n",
              "  </svg>\n",
              "      </button>\n",
              "      \n",
              "  <style>\n",
              "    .colab-df-container {\n",
              "      display:flex;\n",
              "      flex-wrap:wrap;\n",
              "      gap: 12px;\n",
              "    }\n",
              "\n",
              "    .colab-df-convert {\n",
              "      background-color: #E8F0FE;\n",
              "      border: none;\n",
              "      border-radius: 50%;\n",
              "      cursor: pointer;\n",
              "      display: none;\n",
              "      fill: #1967D2;\n",
              "      height: 32px;\n",
              "      padding: 0 0 0 0;\n",
              "      width: 32px;\n",
              "    }\n",
              "\n",
              "    .colab-df-convert:hover {\n",
              "      background-color: #E2EBFA;\n",
              "      box-shadow: 0px 1px 2px rgba(60, 64, 67, 0.3), 0px 1px 3px 1px rgba(60, 64, 67, 0.15);\n",
              "      fill: #174EA6;\n",
              "    }\n",
              "\n",
              "    [theme=dark] .colab-df-convert {\n",
              "      background-color: #3B4455;\n",
              "      fill: #D2E3FC;\n",
              "    }\n",
              "\n",
              "    [theme=dark] .colab-df-convert:hover {\n",
              "      background-color: #434B5C;\n",
              "      box-shadow: 0px 1px 3px 1px rgba(0, 0, 0, 0.15);\n",
              "      filter: drop-shadow(0px 1px 2px rgba(0, 0, 0, 0.3));\n",
              "      fill: #FFFFFF;\n",
              "    }\n",
              "  </style>\n",
              "\n",
              "      <script>\n",
              "        const buttonEl =\n",
              "          document.querySelector('#df-80fbd40e-5efb-4d74-be2a-686a372f196b button.colab-df-convert');\n",
              "        buttonEl.style.display =\n",
              "          google.colab.kernel.accessAllowed ? 'block' : 'none';\n",
              "\n",
              "        async function convertToInteractive(key) {\n",
              "          const element = document.querySelector('#df-80fbd40e-5efb-4d74-be2a-686a372f196b');\n",
              "          const dataTable =\n",
              "            await google.colab.kernel.invokeFunction('convertToInteractive',\n",
              "                                                     [key], {});\n",
              "          if (!dataTable) return;\n",
              "\n",
              "          const docLinkHtml = 'Like what you see? Visit the ' +\n",
              "            '<a target=\"_blank\" href=https://colab.research.google.com/notebooks/data_table.ipynb>data table notebook</a>'\n",
              "            + ' to learn more about interactive tables.';\n",
              "          element.innerHTML = '';\n",
              "          dataTable['output_type'] = 'display_data';\n",
              "          await google.colab.output.renderOutput(dataTable, element);\n",
              "          const docLink = document.createElement('div');\n",
              "          docLink.innerHTML = docLinkHtml;\n",
              "          element.appendChild(docLink);\n",
              "        }\n",
              "      </script>\n",
              "    </div>\n",
              "  </div>\n",
              "  "
            ]
          },
          "metadata": {},
          "execution_count": 162
        }
      ]
    },
    {
      "cell_type": "code",
      "source": [
        "# draw boxplot\n",
        "\n",
        "plt.figure(figsize=(14,6))\n",
        "sns.boxplot(x='income',y='age',data=train_data )"
      ],
      "metadata": {
        "colab": {
          "base_uri": "https://localhost:8080/",
          "height": 406
        },
        "id": "Wr5u3SrkoHDP",
        "outputId": "6cee71d1-c497-4e2d-fa55-a395526a4559"
      },
      "execution_count": 163,
      "outputs": [
        {
          "output_type": "execute_result",
          "data": {
            "text/plain": [
              "<matplotlib.axes._subplots.AxesSubplot at 0x7f2ad0eaad10>"
            ]
          },
          "metadata": {},
          "execution_count": 163
        },
        {
          "output_type": "display_data",
          "data": {
            "text/plain": [
              "<Figure size 1008x432 with 1 Axes>"
            ],
            "image/png": "[encoded data removed]"
          },
          "metadata": {
            "needs_background": "light"
          }
        }
      ]
    },
    {
      "cell_type": "markdown",
      "source": [
        "### Analysis \n",
        "- Medain age for the people who are earning less than 50K is lower than those people wo are earning more than 50K\n",
        "- There are outliers in our for both group \n",
        "- Flexibility of age for group who are earning more than 50K is less than the group of people who are earning less than or equal 50K"
      ],
      "metadata": {
        "id": "rMEg4uCio0Gh"
      }
    },
    {
      "cell_type": "markdown",
      "source": [
        "## Income and Capital Gain\n"
      ],
      "metadata": {
        "id": "lGVA3aYurmDp"
      }
    },
    {
      "cell_type": "code",
      "source": [
        "plt.figure(figsize=(14,6))\n",
        "sns.boxplot(x='income',y='capital_gain',data=train_data)"
      ],
      "metadata": {
        "colab": {
          "base_uri": "https://localhost:8080/",
          "height": 404
        },
        "id": "NFhWSWCJoiQn",
        "outputId": "ebf4d376-bd3e-40bd-a40f-43fdf71f6f13"
      },
      "execution_count": 164,
      "outputs": [
        {
          "output_type": "execute_result",
          "data": {
            "text/plain": [
              "<matplotlib.axes._subplots.AxesSubplot at 0x7f2ad0d20a10>"
            ]
          },
          "metadata": {},
          "execution_count": 164
        },
        {
          "output_type": "display_data",
          "data": {
            "text/plain": [
              "<Figure size 1008x432 with 1 Axes>"
            ],
            "image/png": "[encoded data removed]"
          },
          "metadata": {
            "needs_background": "light"
          }
        }
      ]
    },
    {
      "cell_type": "markdown",
      "source": [
        "### Analysis\n",
        "- Most of the observations are centered at 0.\n",
        "- There are some outliers in data set for both of the group"
      ],
      "metadata": {
        "id": "YH6_K2bYsMKI"
      }
    },
    {
      "cell_type": "markdown",
      "source": [
        "###Income, Capital-loss\n"
      ],
      "metadata": {
        "id": "0Sy97Abnsn-J"
      }
    },
    {
      "cell_type": "code",
      "source": [
        "plt.figure(figsize=(14,6))\n",
        "sns.boxplot(x='income',y='capital_loss',data=train_data)"
      ],
      "metadata": {
        "colab": {
          "base_uri": "https://localhost:8080/",
          "height": 406
        },
        "id": "vxBtHbv2r5xl",
        "outputId": "2c864039-aca0-48f4-b399-024ca996903c"
      },
      "execution_count": 165,
      "outputs": [
        {
          "output_type": "execute_result",
          "data": {
            "text/plain": [
              "<matplotlib.axes._subplots.AxesSubplot at 0x7f2ad0c659d0>"
            ]
          },
          "metadata": {},
          "execution_count": 165
        },
        {
          "output_type": "display_data",
          "data": {
            "text/plain": [
              "<Figure size 1008x432 with 1 Axes>"
            ],
            "image/png": "[encoded data removed]"
          },
          "metadata": {
            "needs_background": "light"
          }
        }
      ]
    },
    {
      "cell_type": "markdown",
      "source": [
        "### Analysis\n",
        "- Here also most of the observations are cenetred at 0\n",
        "- Here outliers for group 0 (=50K) are more than the group 1 "
      ],
      "metadata": {
        "id": "OfQY41Kaszc-"
      }
    },
    {
      "cell_type": "markdown",
      "source": [
        "### Income, Hours-per- week"
      ],
      "metadata": {
        "id": "CowkdBBrtiGb"
      }
    },
    {
      "cell_type": "code",
      "source": [
        "plt.figure(figsize=(14,6))\n",
        "sns.boxplot(x='income',y='hours_per_week',data=train_data)"
      ],
      "metadata": {
        "colab": {
          "base_uri": "https://localhost:8080/",
          "height": 406
        },
        "id": "5_nP3AB6suu1",
        "outputId": "1a6c059e-3a26-4de2-d3b5-939e8192e1ae"
      },
      "execution_count": 166,
      "outputs": [
        {
          "output_type": "execute_result",
          "data": {
            "text/plain": [
              "<matplotlib.axes._subplots.AxesSubplot at 0x7f2ac7c42890>"
            ]
          },
          "metadata": {},
          "execution_count": 166
        },
        {
          "output_type": "display_data",
          "data": {
            "text/plain": [
              "<Figure size 1008x432 with 1 Axes>"
            ],
            "image/png": "[encoded data removed]"
          },
          "metadata": {
            "needs_background": "light"
          }
        }
      ]
    },
    {
      "cell_type": "markdown",
      "source": [
        "### Analysis\n",
        "- Median number of hours per week for group who earns less than and equal 50K are less than the group who earns more than 50K \n",
        "- Outliers are present in both of the groups but for the group 0 there are more outliers\n",
        "- There is more flexibilty of hours for group who earn more than 50K in comparison of group who ean less than or equal to 50K"
      ],
      "metadata": {
        "id": "jF_9OjWNuGlQ"
      }
    },
    {
      "cell_type": "markdown",
      "source": [
        "### Income, fnlwgt"
      ],
      "metadata": {
        "id": "mew-CAWuvogi"
      }
    },
    {
      "cell_type": "code",
      "source": [
        "plt.figure(figsize=(14,6))\n",
        "sns.boxplot(x='income',y='fnlwgt',data=train_data)"
      ],
      "metadata": {
        "colab": {
          "base_uri": "https://localhost:8080/",
          "height": 417
        },
        "id": "L4R6MHYCuD32",
        "outputId": "e2dc0b6f-da54-4de1-8691-704c0bf39eab"
      },
      "execution_count": 167,
      "outputs": [
        {
          "output_type": "execute_result",
          "data": {
            "text/plain": [
              "<matplotlib.axes._subplots.AxesSubplot at 0x7f2ac7d0a690>"
            ]
          },
          "metadata": {},
          "execution_count": 167
        },
        {
          "output_type": "display_data",
          "data": {
            "text/plain": [
              "<Figure size 1008x432 with 1 Axes>"
            ],
            "image/png": "[encoded data removed]"
          },
          "metadata": {
            "needs_background": "light"
          }
        }
      ]
    },
    {
      "cell_type": "markdown",
      "source": [
        "### Analysis\n",
        "- There are more outliers present in group 0 than group 1"
      ],
      "metadata": {
        "id": "aCk-0CRsvy1u"
      }
    },
    {
      "cell_type": "markdown",
      "source": [
        "# Bivariate Analysis for categorical columns"
      ],
      "metadata": {
        "id": "YNo6DIvIwKhi"
      }
    },
    {
      "cell_type": "code",
      "source": [
        "## categorical columns\n",
        "\n",
        "cat_col"
      ],
      "metadata": {
        "colab": {
          "base_uri": "https://localhost:8080/"
        },
        "id": "RlqtqCOyvuVV",
        "outputId": "2d28f00a-7936-4d9b-9ae7-7cb3dcdf348c"
      },
      "execution_count": 168,
      "outputs": [
        {
          "output_type": "execute_result",
          "data": {
            "text/plain": [
              "['workclass',\n",
              " 'education',\n",
              " 'marital_status',\n",
              " 'occupation',\n",
              " 'relationship',\n",
              " 'race',\n",
              " 'sex',\n",
              " 'native_country']"
            ]
          },
          "metadata": {},
          "execution_count": 168
        }
      ]
    },
    {
      "cell_type": "markdown",
      "source": [
        "## Income and workclass"
      ],
      "metadata": {
        "id": "UvlgoweLBShD"
      }
    },
    {
      "cell_type": "code",
      "source": [
        "plt.figure(figsize=(18,6))\n",
        "\n",
        "total=float(len(train_data['income']))\n",
        "ax=sns.countplot(x='workclass',hue='income',data=train_data)\n",
        "\n",
        "for p in ax.patches:\n",
        "  height=p.get_height()\n",
        "  ax.text(p.get_x()+p.get_width()/2.,height+10,\n",
        "          '{:1.2f}'.format(100*height/total),\n",
        "          ha='center')\n"
      ],
      "metadata": {
        "colab": {
          "base_uri": "https://localhost:8080/",
          "height": 421
        },
        "id": "kBNIi4irwTXF",
        "outputId": "2ea5718a-019d-4fba-b4fd-240f160fa688"
      },
      "execution_count": 169,
      "outputs": [
        {
          "output_type": "stream",
          "name": "stderr",
          "text": [
            "WARNING:matplotlib.text:posx and posy should be finite values\n",
            "WARNING:matplotlib.text:posx and posy should be finite values\n",
            "WARNING:matplotlib.text:posx and posy should be finite values\n",
            "WARNING:matplotlib.text:posx and posy should be finite values\n",
            "WARNING:matplotlib.text:posx and posy should be finite values\n",
            "WARNING:matplotlib.text:posx and posy should be finite values\n"
          ]
        },
        {
          "output_type": "display_data",
          "data": {
            "text/plain": [
              "<Figure size 1296x432 with 1 Axes>"
            ],
            "image/png": "[encoded data removed]"
          },
          "metadata": {
            "needs_background": "light"
          }
        }
      ]
    },
    {
      "cell_type": "markdown",
      "source": [
        "### Analysis\n",
        "\n",
        "- Self-emp-inc is only the catgory where number of people who earn more than 50K is more than the number of people who earns less than or equla to 50K\n",
        "- Otherwise number of people who earns less than or equal than 50K is more than the number of people who earn smore than 50K"
      ],
      "metadata": {
        "id": "f3iyESp9y7dM"
      }
    },
    {
      "cell_type": "markdown",
      "source": [
        "### Income and education"
      ],
      "metadata": {
        "id": "cOz9xUJKzmUo"
      }
    },
    {
      "cell_type": "code",
      "source": [
        "plt.figure(figsize=(18,6))\n",
        "\n",
        "total=float(len(train_data['income']))\n",
        "ax=sns.countplot(x='education',hue='income',data=train_data)\n",
        "\n",
        "for p in ax.patches:\n",
        "  height=p.get_height()\n",
        "  ax.text(p.get_x()+p.get_width()/2.,height+10,\n",
        "          '{:1.2f}'.format(100*height/total),\n",
        "          ha='center')\n"
      ],
      "metadata": {
        "colab": {
          "base_uri": "https://localhost:8080/",
          "height": 368
        },
        "id": "0FGjFowSwfVt",
        "outputId": "a1cd2013-0d08-45fc-f9aa-0766b99239c5"
      },
      "execution_count": 170,
      "outputs": [
        {
          "output_type": "stream",
          "name": "stderr",
          "text": [
            "WARNING:matplotlib.text:posx and posy should be finite values\n",
            "WARNING:matplotlib.text:posx and posy should be finite values\n",
            "WARNING:matplotlib.text:posx and posy should be finite values\n"
          ]
        },
        {
          "output_type": "display_data",
          "data": {
            "text/plain": [
              "<Figure size 1296x432 with 1 Axes>"
            ],
            "image/png": "[encoded data removed]"
          },
          "metadata": {
            "needs_background": "light"
          }
        }
      ]
    },
    {
      "cell_type": "markdown",
      "source": [
        "### Analysis\n",
        "- Masters, Doctrate and Prof-school are the category where number of people who earn more than 50K is more than the people who earn less than or equal to 50K\n",
        "- Otherwise number of people who earns less than or equal than 50K is more than the number of people who earn smore than 50K"
      ],
      "metadata": {
        "id": "DOeLun5PzxPY"
      }
    },
    {
      "cell_type": "markdown",
      "source": [
        "### Income, marital- status\n"
      ],
      "metadata": {
        "id": "W3hCi4x904nZ"
      }
    },
    {
      "cell_type": "code",
      "source": [
        "plt.figure(figsize=(18,6))\n",
        "\n",
        "total=float(len(train_data['income']))\n",
        "ax=sns.countplot(x='marital_status',hue='income',data=train_data)\n",
        "\n",
        "for p in ax.patches:\n",
        "  height=p.get_height()\n",
        "  ax.text(p.get_x()+p.get_width()/2.,height+10,\n",
        "          '{:1.2f}'.format(100*height/total),\n",
        "          ha='center')"
      ],
      "metadata": {
        "colab": {
          "base_uri": "https://localhost:8080/",
          "height": 312
        },
        "id": "5FhCxFeezptt",
        "outputId": "1c4c3cab-599b-4ea7-8b8f-3b5d53d249fd"
      },
      "execution_count": 171,
      "outputs": [
        {
          "output_type": "display_data",
          "data": {
            "text/plain": [
              "<Figure size 1296x432 with 1 Axes>"
            ],
            "image/png": "[encoded data removed]"
          },
          "metadata": {
            "needs_background": "light"
          }
        }
      ]
    },
    {
      "cell_type": "markdown",
      "source": [
        "### Analysis\n",
        "- Here there is no category where counting of person whos earns more 50K is more than persons who earns less than or equal to 50K\n",
        "-  The number of people who earn less than 50K is maximum in Never-married category and is minimum in Maried-AF-spouce.\n",
        "\n",
        "- The number of people who earn more than 50K is maximum in Married-spouce category and is minimum in Maried-AF-spouce."
      ],
      "metadata": {
        "id": "Vz7rbC4M1b1V"
      }
    },
    {
      "cell_type": "markdown",
      "source": [
        "### Income and Occupation"
      ],
      "metadata": {
        "id": "m1-L_RmZ3ikY"
      }
    },
    {
      "cell_type": "code",
      "source": [
        "plt.figure(figsize=(20,6))\n",
        "\n",
        "total=float(len(train_data['income']))\n",
        "ax=sns.countplot(x='occupation',hue='income',data=train_data)\n",
        "plt.xticks(rotation=90)\n",
        "\n",
        "for p in ax.patches:\n",
        "  height=p.get_height()\n",
        "  ax.text(p.get_x()+p.get_width()/2.,height+10,\n",
        "          '{:1.2f}'.format(100*height/total),\n",
        "          ha='center')"
      ],
      "metadata": {
        "colab": {
          "base_uri": "https://localhost:8080/",
          "height": 344
        },
        "id": "lQaqrz_F1BxG",
        "outputId": "5455ff77-27e2-49ad-8477-be63f0aad291"
      },
      "execution_count": 172,
      "outputs": [
        {
          "output_type": "display_data",
          "data": {
            "text/plain": [
              "<Figure size 1440x432 with 1 Axes>"
            ],
            "image/png": "[encoded data removed]"
          },
          "metadata": {
            "needs_background": "light"
          }
        }
      ]
    },
    {
      "cell_type": "markdown",
      "source": [
        "### Analysis\n",
        "- Here there is no category where counting of person whos earns more than  50K is higher than the people who earns less than or equal to 50K\n",
        "-  The number of people who earn less than 50K is maximum in Adm-clerical category.\n",
        "\n",
        "- The number of people who earn more than 50K is maximum in Exec-managerial category .\n",
        "- Armed-Force and Priv-house-serv are the category where people dont earn more than 50K"
      ],
      "metadata": {
        "id": "s-XuGoaC4JfJ"
      }
    },
    {
      "cell_type": "markdown",
      "source": [
        "### Income and relationship"
      ],
      "metadata": {
        "id": "J7xnpkX35Lon"
      }
    },
    {
      "cell_type": "code",
      "source": [
        "plt.figure(figsize=(20,6))\n",
        "\n",
        "total=float(len(train_data['income']))\n",
        "ax=sns.countplot(x='relationship',hue='income',data=train_data)\n",
        "plt.xticks(rotation=90)\n",
        "\n",
        "for p in ax.patches:\n",
        "  height=p.get_height()\n",
        "  ax.text(p.get_x()+p.get_width()/2.,height+10,\n",
        "          '{:1.2f}'.format(100*height/total),\n",
        "          ha='center')"
      ],
      "metadata": {
        "colab": {
          "base_uri": "https://localhost:8080/",
          "height": 328
        },
        "id": "Dxue5KzV3npF",
        "outputId": "58643fbe-605b-4b8a-fbdb-47952352dc6e"
      },
      "execution_count": 173,
      "outputs": [
        {
          "output_type": "display_data",
          "data": {
            "text/plain": [
              "<Figure size 1440x432 with 1 Axes>"
            ],
            "image/png": "[encoded data removed]"
          },
          "metadata": {
            "needs_background": "light"
          }
        }
      ]
    },
    {
      "cell_type": "markdown",
      "source": [
        "### Income and race\n"
      ],
      "metadata": {
        "id": "tlQQBmnO5lsP"
      }
    },
    {
      "cell_type": "code",
      "source": [
        "plt.figure(figsize=(20,6))\n",
        "\n",
        "total=float(len(train_data['income']))\n",
        "ax=sns.countplot(x='race',hue='income',data=train_data)\n",
        "plt.xticks(rotation=90)\n",
        "\n",
        "for p in ax.patches:\n",
        "  height=p.get_height()\n",
        "  ax.text(p.get_x()+p.get_width()/2.,height+10,\n",
        "          '{:1.2f}'.format(100*height/total),\n",
        "          ha='center')"
      ],
      "metadata": {
        "colab": {
          "base_uri": "https://localhost:8080/",
          "height": 348
        },
        "id": "ZXGqWOws5PX_",
        "outputId": "eea0610a-ed07-4f29-e792-7b23c18b1437"
      },
      "execution_count": 174,
      "outputs": [
        {
          "output_type": "display_data",
          "data": {
            "text/plain": [
              "<Figure size 1440x432 with 1 Axes>"
            ],
            "image/png": "[encoded data removed]"
          },
          "metadata": {
            "needs_background": "light"
          }
        }
      ]
    },
    {
      "cell_type": "markdown",
      "source": [
        "## Income and sex"
      ],
      "metadata": {
        "id": "vxq0fRP9BFuL"
      }
    },
    {
      "cell_type": "code",
      "source": [
        "plt.figure(figsize=(20,6))\n",
        "\n",
        "total=float(len(train_data['income']))\n",
        "ax=sns.countplot(x='sex',hue='income',data=train_data)\n",
        "plt.xticks(rotation=90)\n",
        "\n",
        "for p in ax.patches:\n",
        "  height=p.get_height()\n",
        "  ax.text(p.get_x()+p.get_width()/2.,height+10,\n",
        "          '{:1.2f}'.format(100*height/total),\n",
        "          ha='center')"
      ],
      "metadata": {
        "colab": {
          "base_uri": "https://localhost:8080/",
          "height": 302
        },
        "id": "Jw1rEhBa5pCU",
        "outputId": "71cf560a-90bb-4a47-8716-76a881beb6af"
      },
      "execution_count": 175,
      "outputs": [
        {
          "output_type": "display_data",
          "data": {
            "text/plain": [
              "<Figure size 1440x432 with 1 Axes>"
            ],
            "image/png": "[encoded data removed]"
          },
          "metadata": {
            "needs_background": "light"
          }
        }
      ]
    },
    {
      "cell_type": "markdown",
      "source": [
        "### Analysis\n",
        "- Percentage of people who earns more than 50K is higher for Male category"
      ],
      "metadata": {
        "id": "UGoRIVJWBCbL"
      }
    },
    {
      "cell_type": "markdown",
      "source": [
        "## Multivariate analysis\n",
        "- Income, age, sex"
      ],
      "metadata": {
        "id": "mX8giwqh_wsu"
      }
    },
    {
      "cell_type": "code",
      "source": [
        "plt.figure(figsize=(16,8))\n",
        "sns.boxplot(x='income',y='age',hue='sex',data=train_data)"
      ],
      "metadata": {
        "colab": {
          "base_uri": "https://localhost:8080/",
          "height": 469
        },
        "id": "IB0dqGG__5la",
        "outputId": "38e3fc25-c31c-47d1-f0dd-a14699dcc952"
      },
      "execution_count": 176,
      "outputs": [
        {
          "output_type": "execute_result",
          "data": {
            "text/plain": [
              "<matplotlib.axes._subplots.AxesSubplot at 0x7f2ac75feed0>"
            ]
          },
          "metadata": {},
          "execution_count": 176
        },
        {
          "output_type": "display_data",
          "data": {
            "text/plain": [
              "<Figure size 1152x576 with 1 Axes>"
            ],
            "image/png": "[encoded data removed]"
          },
          "metadata": {
            "needs_background": "light"
          }
        }
      ]
    },
    {
      "cell_type": "markdown",
      "source": [
        "## Analysis\n",
        "- The median age of Female and Male for the gorup wher income is <= 50K is approximately wqual\n",
        "- The meadian age of Male is higher than than taht of Female for the group where income >50K\n",
        "- Some outliers are present in  each group "
      ],
      "metadata": {
        "id": "qA0uk_I0AQ5j"
      }
    },
    {
      "cell_type": "markdown",
      "source": [],
      "metadata": {
        "id": "B319I0VE6PWF"
      }
    },
    {
      "cell_type": "markdown",
      "source": [
        "## Correlation\n",
        "- To check correlation we plot heatmap"
      ],
      "metadata": {
        "id": "kpnHb_JD-4sr"
      }
    },
    {
      "cell_type": "code",
      "source": [
        "plt.figure(figsize=(16,8))\n",
        "sns.heatmap(train_data.corr(),annot=True,cmap='Blues')"
      ],
      "metadata": {
        "colab": {
          "base_uri": "https://localhost:8080/",
          "height": 477
        },
        "id": "dRl-9f8F_BJ7",
        "outputId": "9c6054e4-3082-409b-f1b9-346273e39cea"
      },
      "execution_count": 177,
      "outputs": [
        {
          "output_type": "execute_result",
          "data": {
            "text/plain": [
              "<matplotlib.axes._subplots.AxesSubplot at 0x7f2ac7531650>"
            ]
          },
          "metadata": {},
          "execution_count": 177
        },
        {
          "output_type": "display_data",
          "data": {
            "text/plain": [
              "<Figure size 1152x576 with 2 Axes>"
            ],
            "image/png": "[encoded data removed]"
          },
          "metadata": {
            "needs_background": "light"
          }
        }
      ]
    },
    {
      "cell_type": "markdown",
      "source": [
        "- We can see there is no high multicollinearity in data set"
      ],
      "metadata": {
        "id": "AQLJo5GG_Rec"
      }
    },
    {
      "cell_type": "markdown",
      "source": [
        "## Creating Capital_change column\n",
        "-  We are creating capital change  column from capital_loss and capital_gain columns"
      ],
      "metadata": {
        "id": "mn-R2r-VCpCG"
      }
    },
    {
      "cell_type": "code",
      "source": [
        "capital_change=train_data['capital_gain']-train_data['capital_loss']\n",
        "\n",
        "# inserting capital_change at 2nd last position\n",
        "position=train_data.shape[1]-1\n",
        "train_data.insert(position,'capital_change',capital_change)\n",
        "\n",
        "# droping the capital_gain and capital_loss columns\n",
        "train_data=train_data.drop(['capital_gain','capital_loss'],axis=1)"
      ],
      "metadata": {
        "id": "OAd8Yq9oCMQ3"
      },
      "execution_count": 178,
      "outputs": []
    },
    {
      "cell_type": "code",
      "source": [
        "train_data.head()"
      ],
      "metadata": {
        "colab": {
          "base_uri": "https://localhost:8080/",
          "height": 357
        },
        "id": "PHRaGGKEDRyX",
        "outputId": "ebf6099e-3a8a-45bf-aa90-112cb648be11"
      },
      "execution_count": 179,
      "outputs": [
        {
          "output_type": "execute_result",
          "data": {
            "text/plain": [
              "   age         workclass  fnlwgt  education  education_num  \\\n",
              "0   39         State-gov   77516  Bachelors             13   \n",
              "1   50  Self-emp-not-inc   83311  Bachelors             13   \n",
              "2   38           Private  215646    HS-grad              9   \n",
              "3   53           Private  234721       11th              7   \n",
              "4   28           Private  338409  Bachelors             13   \n",
              "\n",
              "       marital_status         occupation   relationship   race     sex  \\\n",
              "0       Never-married       Adm-clerical  Not-in-family  White    Male   \n",
              "1  Married-civ-spouse    Exec-managerial        Husband  White    Male   \n",
              "2            Divorced  Handlers-cleaners  Not-in-family  White    Male   \n",
              "3  Married-civ-spouse  Handlers-cleaners        Husband  Black    Male   \n",
              "4  Married-civ-spouse     Prof-specialty           Wife  Black  Female   \n",
              "\n",
              "   hours_per_week native_country  capital_change  income  \n",
              "0              40  United-States            2174       0  \n",
              "1              13  United-States               0       0  \n",
              "2              40  United-States               0       0  \n",
              "3              40  United-States               0       0  \n",
              "4              40           Cuba               0       0  "
            ],
            "text/html": [
              "\n",
              "  <div id=\"df-78904f17-c3b0-4b1a-8b8b-e85535729f93\">\n",
              "    <div class=\"colab-df-container\">\n",
              "      <div>\n",
              "<style scoped>\n",
              "    .dataframe tbody tr th:only-of-type {\n",
              "        vertical-align: middle;\n",
              "    }\n",
              "\n",
              "    .dataframe tbody tr th {\n",
              "        vertical-align: top;\n",
              "    }\n",
              "\n",
              "    .dataframe thead th {\n",
              "        text-align: right;\n",
              "    }\n",
              "</style>\n",
              "<table border=\"1\" class=\"dataframe\">\n",
              "  <thead>\n",
              "    <tr style=\"text-align: right;\">\n",
              "      <th></th>\n",
              "      <th>age</th>\n",
              "      <th>workclass</th>\n",
              "      <th>fnlwgt</th>\n",
              "      <th>education</th>\n",
              "      <th>education_num</th>\n",
              "      <th>marital_status</th>\n",
              "      <th>occupation</th>\n",
              "      <th>relationship</th>\n",
              "      <th>race</th>\n",
              "      <th>sex</th>\n",
              "      <th>hours_per_week</th>\n",
              "      <th>native_country</th>\n",
              "      <th>capital_change</th>\n",
              "      <th>income</th>\n",
              "    </tr>\n",
              "  </thead>\n",
              "  <tbody>\n",
              "    <tr>\n",
              "      <th>0</th>\n",
              "      <td>39</td>\n",
              "      <td>State-gov</td>\n",
              "      <td>77516</td>\n",
              "      <td>Bachelors</td>\n",
              "      <td>13</td>\n",
              "      <td>Never-married</td>\n",
              "      <td>Adm-clerical</td>\n",
              "      <td>Not-in-family</td>\n",
              "      <td>White</td>\n",
              "      <td>Male</td>\n",
              "      <td>40</td>\n",
              "      <td>United-States</td>\n",
              "      <td>2174</td>\n",
              "      <td>0</td>\n",
              "    </tr>\n",
              "    <tr>\n",
              "      <th>1</th>\n",
              "      <td>50</td>\n",
              "      <td>Self-emp-not-inc</td>\n",
              "      <td>83311</td>\n",
              "      <td>Bachelors</td>\n",
              "      <td>13</td>\n",
              "      <td>Married-civ-spouse</td>\n",
              "      <td>Exec-managerial</td>\n",
              "      <td>Husband</td>\n",
              "      <td>White</td>\n",
              "      <td>Male</td>\n",
              "      <td>13</td>\n",
              "      <td>United-States</td>\n",
              "      <td>0</td>\n",
              "      <td>0</td>\n",
              "    </tr>\n",
              "    <tr>\n",
              "      <th>2</th>\n",
              "      <td>38</td>\n",
              "      <td>Private</td>\n",
              "      <td>215646</td>\n",
              "      <td>HS-grad</td>\n",
              "      <td>9</td>\n",
              "      <td>Divorced</td>\n",
              "      <td>Handlers-cleaners</td>\n",
              "      <td>Not-in-family</td>\n",
              "      <td>White</td>\n",
              "      <td>Male</td>\n",
              "      <td>40</td>\n",
              "      <td>United-States</td>\n",
              "      <td>0</td>\n",
              "      <td>0</td>\n",
              "    </tr>\n",
              "    <tr>\n",
              "      <th>3</th>\n",
              "      <td>53</td>\n",
              "      <td>Private</td>\n",
              "      <td>234721</td>\n",
              "      <td>11th</td>\n",
              "      <td>7</td>\n",
              "      <td>Married-civ-spouse</td>\n",
              "      <td>Handlers-cleaners</td>\n",
              "      <td>Husband</td>\n",
              "      <td>Black</td>\n",
              "      <td>Male</td>\n",
              "      <td>40</td>\n",
              "      <td>United-States</td>\n",
              "      <td>0</td>\n",
              "      <td>0</td>\n",
              "    </tr>\n",
              "    <tr>\n",
              "      <th>4</th>\n",
              "      <td>28</td>\n",
              "      <td>Private</td>\n",
              "      <td>338409</td>\n",
              "      <td>Bachelors</td>\n",
              "      <td>13</td>\n",
              "      <td>Married-civ-spouse</td>\n",
              "      <td>Prof-specialty</td>\n",
              "      <td>Wife</td>\n",
              "      <td>Black</td>\n",
              "      <td>Female</td>\n",
              "      <td>40</td>\n",
              "      <td>Cuba</td>\n",
              "      <td>0</td>\n",
              "      <td>0</td>\n",
              "    </tr>\n",
              "  </tbody>\n",
              "</table>\n",
              "</div>\n",
              "      <button class=\"colab-df-convert\" onclick=\"convertToInteractive('df-78904f17-c3b0-4b1a-8b8b-e85535729f93')\"\n",
              "              title=\"Convert this dataframe to an interactive table.\"\n",
              "              style=\"display:none;\">\n",
              "        \n",
              "  <svg xmlns=\"http://www.w3.org/2000/svg\" height=\"24px\"viewBox=\"0 0 24 24\"\n",
              "       width=\"24px\">\n",
              "    <path d=\"M0 0h24v24H0V0z\" fill=\"none\"/>\n",
              "    <path d=\"M18.56 5.44l.94 2.06.94-2.06 2.06-.94-2.06-.94-.94-2.06-.94 2.06-2.06.94zm-11 1L8.5 8.5l.94-2.06 2.06-.94-2.06-.94L8.5 2.5l-.94 2.06-2.06.94zm10 10l.94 2.06.94-2.06 2.06-.94-2.06-.94-.94-2.06-.94 2.06-2.06.94z\"/><path d=\"M17.41 7.96l-1.37-1.37c-.4-.4-.92-.59-1.43-.59-.52 0-1.04.2-1.43.59L10.3 9.45l-7.72 7.72c-.78.78-.78 2.05 0 2.83L4 21.41c.39.39.9.59 1.41.59.51 0 1.02-.2 1.41-.59l7.78-7.78 2.81-2.81c.8-.78.8-2.07 0-2.86zM5.41 20L4 18.59l7.72-7.72 1.47 1.35L5.41 20z\"/>\n",
              "  </svg>\n",
              "      </button>\n",
              "      \n",
              "  <style>\n",
              "    .colab-df-container {\n",
              "      display:flex;\n",
              "      flex-wrap:wrap;\n",
              "      gap: 12px;\n",
              "    }\n",
              "\n",
              "    .colab-df-convert {\n",
              "      background-color: #E8F0FE;\n",
              "      border: none;\n",
              "      border-radius: 50%;\n",
              "      cursor: pointer;\n",
              "      display: none;\n",
              "      fill: #1967D2;\n",
              "      height: 32px;\n",
              "      padding: 0 0 0 0;\n",
              "      width: 32px;\n",
              "    }\n",
              "\n",
              "    .colab-df-convert:hover {\n",
              "      background-color: #E2EBFA;\n",
              "      box-shadow: 0px 1px 2px rgba(60, 64, 67, 0.3), 0px 1px 3px 1px rgba(60, 64, 67, 0.15);\n",
              "      fill: #174EA6;\n",
              "    }\n",
              "\n",
              "    [theme=dark] .colab-df-convert {\n",
              "      background-color: #3B4455;\n",
              "      fill: #D2E3FC;\n",
              "    }\n",
              "\n",
              "    [theme=dark] .colab-df-convert:hover {\n",
              "      background-color: #434B5C;\n",
              "      box-shadow: 0px 1px 3px 1px rgba(0, 0, 0, 0.15);\n",
              "      filter: drop-shadow(0px 1px 2px rgba(0, 0, 0, 0.3));\n",
              "      fill: #FFFFFF;\n",
              "    }\n",
              "  </style>\n",
              "\n",
              "      <script>\n",
              "        const buttonEl =\n",
              "          document.querySelector('#df-78904f17-c3b0-4b1a-8b8b-e85535729f93 button.colab-df-convert');\n",
              "        buttonEl.style.display =\n",
              "          google.colab.kernel.accessAllowed ? 'block' : 'none';\n",
              "\n",
              "        async function convertToInteractive(key) {\n",
              "          const element = document.querySelector('#df-78904f17-c3b0-4b1a-8b8b-e85535729f93');\n",
              "          const dataTable =\n",
              "            await google.colab.kernel.invokeFunction('convertToInteractive',\n",
              "                                                     [key], {});\n",
              "          if (!dataTable) return;\n",
              "\n",
              "          const docLinkHtml = 'Like what you see? Visit the ' +\n",
              "            '<a target=\"_blank\" href=https://colab.research.google.com/notebooks/data_table.ipynb>data table notebook</a>'\n",
              "            + ' to learn more about interactive tables.';\n",
              "          element.innerHTML = '';\n",
              "          dataTable['output_type'] = 'display_data';\n",
              "          await google.colab.output.renderOutput(dataTable, element);\n",
              "          const docLink = document.createElement('div');\n",
              "          docLink.innerHTML = docLinkHtml;\n",
              "          element.appendChild(docLink);\n",
              "        }\n",
              "      </script>\n",
              "    </div>\n",
              "  </div>\n",
              "  "
            ]
          },
          "metadata": {},
          "execution_count": 179
        }
      ]
    },
    {
      "cell_type": "markdown",
      "source": [
        "# Feature selection"
      ],
      "metadata": {
        "id": "5xQ52FFO_l3E"
      }
    },
    {
      "cell_type": "markdown",
      "source": [
        "### **Hypothesis testing**\n",
        "- **Two sample t-test**: In two sample t- test we take mean of two indipendent groups and compare them to find out whether there is any association or not.\n",
        "- We do some hypothesis to find out the  association between two columns\n",
        "- **Null Hypothesis**: H0: μ1 = μ2\n",
        "-     :--There is no difference between the mean of both of the group\n",
        "- **Alternative Hyptothesis** : H1: mean1 != mean2  \n",
        "-  :--- There is difference between the mean of both of the group\n",
        "- We will calculate t0 (t-test value) and compare it with te (expected value)\n",
        "\n",
        "- If t0 < te :-- We accept the null hypothesis\n",
        "- If t0 > te :-- We reject the null hypothesis\n",
        "- *OR*\n",
        "-If p_value >0.05 :---- We accept the null hypothesis\n",
        "- If p_value < 0.05 :--- We reject the null hypothesis\n",
        "\n",
        "\n",
        "\n",
        "# Example\n",
        "\n",
        "#### Hypothesis for age and income \n",
        "- μ1 is the mean of age for income group <=50K\n",
        "- μ2  is the mean of age for income group > 50K\n",
        "- H0 : μ1 = μ2 \n",
        "- :--- There is no differece between the mean of age for income group <=50K and income group > 50K\n",
        "\n",
        "- H1 :  μ1 ≠ μ2\n",
        ":----  There is a differece between the mean of age for income group <=50K and income group > 50K"
      ],
      "metadata": {
        "id": "m_l21Ym79KXv"
      }
    },
    {
      "cell_type": "code",
      "source": [
        "# creating the list of numerical columns\n",
        "num_cols=[col for col in train_data.columns if train_data[col].dtype!='O']\n",
        "num_cols"
      ],
      "metadata": {
        "colab": {
          "base_uri": "https://localhost:8080/"
        },
        "id": "jxfHu5eP9weI",
        "outputId": "eb255776-18c4-463d-f339-e92cdbb93e7d"
      },
      "execution_count": 180,
      "outputs": [
        {
          "output_type": "execute_result",
          "data": {
            "text/plain": [
              "['age',\n",
              " 'fnlwgt',\n",
              " 'education_num',\n",
              " 'hours_per_week',\n",
              " 'capital_change',\n",
              " 'income']"
            ]
          },
          "metadata": {},
          "execution_count": 180
        }
      ]
    },
    {
      "cell_type": "code",
      "source": [
        "from scipy.stats import ttest_ind, ttest_rel\n",
        "from scipy import stats\n",
        "import random\n",
        "\n",
        "random.seed(21)\n",
        "hypothesis=[]\n",
        "p_values=[]\n",
        "for col in num_cols[:-1]:\n",
        "  data=train_data[np.abs(stats.zscore(train_data[col])<3)]\n",
        "  income_0=data[data['income']==0][col]\n",
        "  income_1=data[data['income']==1][col]\n",
        "\n",
        "  # converting into list and taking sample\n",
        "  income_0=income_0.values.tolist()\n",
        "  income_0=random.sample(income_0,100)\n",
        "  \n",
        "  # converting into list and taking sample\n",
        "  income_1=income_1.values.tolist()\n",
        "  income_1=random.sample(income_1,100)\n",
        "\n",
        "  # calling ttest function that give t_test and P_value\n",
        "  ttest,pval=ttest_ind(income_0,income_1,equal_var=False)\n",
        "  \n",
        "  # appending the p_value into p_values emptylist\n",
        "  p_values.append(np.round(pval,4))\n",
        "\n",
        "\n",
        "\n",
        "  #print('t_test',ttest)\n",
        "  #print('pval',pval)\n",
        "\n",
        "  if pval<0.05:\n",
        "     hypothesis.append('Reject the null hyptothesis')\n",
        "  else:\n",
        "     hypothesis.append('Accept the null hypothesis')\n",
        "\n",
        "\n",
        "data_frame=pd.DataFrame(p_values,columns=['P_value'],index=num_cols[:-1])\n",
        "data_frame['Hypothesis']=hypothesis\n",
        "\n",
        "data_frame"
      ],
      "metadata": {
        "colab": {
          "base_uri": "https://localhost:8080/",
          "height": 206
        },
        "id": "TGhwcZhX9pPP",
        "outputId": "6c4298fe-8e14-468b-9474-69d2c80a59fe"
      },
      "execution_count": 181,
      "outputs": [
        {
          "output_type": "execute_result",
          "data": {
            "text/plain": [
              "                P_value                   Hypothesis\n",
              "age              0.0000  Reject the null hyptothesis\n",
              "fnlwgt           0.8454   Accept the null hypothesis\n",
              "education_num    0.0000  Reject the null hyptothesis\n",
              "hours_per_week   0.0001  Reject the null hyptothesis\n",
              "capital_change   0.0000  Reject the null hyptothesis"
            ],
            "text/html": [
              "\n",
              "  <div id=\"df-37e61720-6188-4849-91ce-1578bff6c062\">\n",
              "    <div class=\"colab-df-container\">\n",
              "      <div>\n",
              "<style scoped>\n",
              "    .dataframe tbody tr th:only-of-type {\n",
              "        vertical-align: middle;\n",
              "    }\n",
              "\n",
              "    .dataframe tbody tr th {\n",
              "        vertical-align: top;\n",
              "    }\n",
              "\n",
              "    .dataframe thead th {\n",
              "        text-align: right;\n",
              "    }\n",
              "</style>\n",
              "<table border=\"1\" class=\"dataframe\">\n",
              "  <thead>\n",
              "    <tr style=\"text-align: right;\">\n",
              "      <th></th>\n",
              "      <th>P_value</th>\n",
              "      <th>Hypothesis</th>\n",
              "    </tr>\n",
              "  </thead>\n",
              "  <tbody>\n",
              "    <tr>\n",
              "      <th>age</th>\n",
              "      <td>0.0000</td>\n",
              "      <td>Reject the null hyptothesis</td>\n",
              "    </tr>\n",
              "    <tr>\n",
              "      <th>fnlwgt</th>\n",
              "      <td>0.8454</td>\n",
              "      <td>Accept the null hypothesis</td>\n",
              "    </tr>\n",
              "    <tr>\n",
              "      <th>education_num</th>\n",
              "      <td>0.0000</td>\n",
              "      <td>Reject the null hyptothesis</td>\n",
              "    </tr>\n",
              "    <tr>\n",
              "      <th>hours_per_week</th>\n",
              "      <td>0.0001</td>\n",
              "      <td>Reject the null hyptothesis</td>\n",
              "    </tr>\n",
              "    <tr>\n",
              "      <th>capital_change</th>\n",
              "      <td>0.0000</td>\n",
              "      <td>Reject the null hyptothesis</td>\n",
              "    </tr>\n",
              "  </tbody>\n",
              "</table>\n",
              "</div>\n",
              "      <button class=\"colab-df-convert\" onclick=\"convertToInteractive('df-37e61720-6188-4849-91ce-1578bff6c062')\"\n",
              "              title=\"Convert this dataframe to an interactive table.\"\n",
              "              style=\"display:none;\">\n",
              "        \n",
              "  <svg xmlns=\"http://www.w3.org/2000/svg\" height=\"24px\"viewBox=\"0 0 24 24\"\n",
              "       width=\"24px\">\n",
              "    <path d=\"M0 0h24v24H0V0z\" fill=\"none\"/>\n",
              "    <path d=\"M18.56 5.44l.94 2.06.94-2.06 2.06-.94-2.06-.94-.94-2.06-.94 2.06-2.06.94zm-11 1L8.5 8.5l.94-2.06 2.06-.94-2.06-.94L8.5 2.5l-.94 2.06-2.06.94zm10 10l.94 2.06.94-2.06 2.06-.94-2.06-.94-.94-2.06-.94 2.06-2.06.94z\"/><path d=\"M17.41 7.96l-1.37-1.37c-.4-.4-.92-.59-1.43-.59-.52 0-1.04.2-1.43.59L10.3 9.45l-7.72 7.72c-.78.78-.78 2.05 0 2.83L4 21.41c.39.39.9.59 1.41.59.51 0 1.02-.2 1.41-.59l7.78-7.78 2.81-2.81c.8-.78.8-2.07 0-2.86zM5.41 20L4 18.59l7.72-7.72 1.47 1.35L5.41 20z\"/>\n",
              "  </svg>\n",
              "      </button>\n",
              "      \n",
              "  <style>\n",
              "    .colab-df-container {\n",
              "      display:flex;\n",
              "      flex-wrap:wrap;\n",
              "      gap: 12px;\n",
              "    }\n",
              "\n",
              "    .colab-df-convert {\n",
              "      background-color: #E8F0FE;\n",
              "      border: none;\n",
              "      border-radius: 50%;\n",
              "      cursor: pointer;\n",
              "      display: none;\n",
              "      fill: #1967D2;\n",
              "      height: 32px;\n",
              "      padding: 0 0 0 0;\n",
              "      width: 32px;\n",
              "    }\n",
              "\n",
              "    .colab-df-convert:hover {\n",
              "      background-color: #E2EBFA;\n",
              "      box-shadow: 0px 1px 2px rgba(60, 64, 67, 0.3), 0px 1px 3px 1px rgba(60, 64, 67, 0.15);\n",
              "      fill: #174EA6;\n",
              "    }\n",
              "\n",
              "    [theme=dark] .colab-df-convert {\n",
              "      background-color: #3B4455;\n",
              "      fill: #D2E3FC;\n",
              "    }\n",
              "\n",
              "    [theme=dark] .colab-df-convert:hover {\n",
              "      background-color: #434B5C;\n",
              "      box-shadow: 0px 1px 3px 1px rgba(0, 0, 0, 0.15);\n",
              "      filter: drop-shadow(0px 1px 2px rgba(0, 0, 0, 0.3));\n",
              "      fill: #FFFFFF;\n",
              "    }\n",
              "  </style>\n",
              "\n",
              "      <script>\n",
              "        const buttonEl =\n",
              "          document.querySelector('#df-37e61720-6188-4849-91ce-1578bff6c062 button.colab-df-convert');\n",
              "        buttonEl.style.display =\n",
              "          google.colab.kernel.accessAllowed ? 'block' : 'none';\n",
              "\n",
              "        async function convertToInteractive(key) {\n",
              "          const element = document.querySelector('#df-37e61720-6188-4849-91ce-1578bff6c062');\n",
              "          const dataTable =\n",
              "            await google.colab.kernel.invokeFunction('convertToInteractive',\n",
              "                                                     [key], {});\n",
              "          if (!dataTable) return;\n",
              "\n",
              "          const docLinkHtml = 'Like what you see? Visit the ' +\n",
              "            '<a target=\"_blank\" href=https://colab.research.google.com/notebooks/data_table.ipynb>data table notebook</a>'\n",
              "            + ' to learn more about interactive tables.';\n",
              "          element.innerHTML = '';\n",
              "          dataTable['output_type'] = 'display_data';\n",
              "          await google.colab.output.renderOutput(dataTable, element);\n",
              "          const docLink = document.createElement('div');\n",
              "          docLink.innerHTML = docLinkHtml;\n",
              "          element.appendChild(docLink);\n",
              "        }\n",
              "      </script>\n",
              "    </div>\n",
              "  </div>\n",
              "  "
            ]
          },
          "metadata": {},
          "execution_count": 181
        }
      ]
    },
    {
      "cell_type": "markdown",
      "source": [
        "## conclusion of hypothesis\n",
        "- We are accepting the null hypothesis only for fnlwgt columns\n",
        "-  It means fnlwgt is the column that is not showing the relationship with target column\n",
        "- There is some dependeny of traget columns on other columns excepting fnlwgt"
      ],
      "metadata": {
        "id": "WUzbT6AmF1a3"
      }
    },
    {
      "cell_type": "code",
      "source": [
        "# Droping the fnlwgt column\n",
        "\n",
        "train_data=train_data.drop(['fnlwgt'],axis=1)"
      ],
      "metadata": {
        "id": "OWi7lZZORXJ0"
      },
      "execution_count": 182,
      "outputs": []
    },
    {
      "cell_type": "markdown",
      "source": [
        "## Chi-Square-Test for categorical features selection"
      ],
      "metadata": {
        "id": "_aJaki82G-Je"
      }
    },
    {
      "cell_type": "markdown",
      "source": [
        "\n",
        "\n",
        "- **Chi-Square-Test** :--A chi-square test is used when you want to see if there is a relationship between two categorical variables\n",
        "![chi_square_formula.jpg](data:image/jpeg;base64,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)\n",
        "\n",
        "\n",
        "- Where:- \n",
        "- :--χ2 represent the Chi-Suqare_test, \n",
        "- :--O represent the observed frequency \n",
        "- :--E represent the expected frequency\n",
        "\n",
        "- We create the contingency table , it is use to determine whether the one varible is dependent on other or not\n",
        "- **Null Hypothesis**: H0: μ1 = μ2\n",
        "-     :--There is no relationship  between  of both of the variable\n",
        "- **Alternative Hyptothesis** : H1: mean1 != mean2 \n",
        "-     :-- There is some realationship between both of the variable\n",
        "- *if statistics >= critical value (expected value)*  :---we  reject the null hypothesis\n",
        "- *if statistics< critical value*  :--- We accept the null hypothesis\n",
        "- *or*\n",
        "-If p_value >0.05 :---- We accept the null hypothesis\n",
        "- If p_value < 0.05 :--- We reject the null hypothesis\n"
      ],
      "metadata": {
        "id": "394Xr5uCGvg9"
      }
    },
    {
      "cell_type": "code",
      "source": [
        "from scipy.stats import chi2_contingency\n",
        "from scipy.stats import chi2\n",
        "\n",
        "p_value=[]\n",
        "hypothesis=[]\n",
        "stat=[]\n",
        "for col in cat_col:\n",
        "  sample_col=train_data[col].sample(frac=0.01,random_state=1)\n",
        "  sample_income=train_data['income'].sample(frac=0.01,random_state=1)\n",
        "  contingency_table=pd.crosstab(sample_col,sample_income,margins=True)\n",
        "  stats,p_val,dof,expected= chi2_contingency(contingency_table)\n",
        "  prob=0.95\n",
        "  critical=chi2.ppf(prob,dof)\n",
        "  stat.append(stats)\n",
        "  p_value.append(p_val)\n",
        "  if stats>=critical:\n",
        "    hypothesis.append('Reject the null hypothesis')\n",
        "\n",
        "  else:\n",
        "    hypothesis.append('Accept the null hypothesis')\n",
        "\n",
        "\n",
        "data_frame=pd.DataFrame(p_value,columns=['P_value'],index=cat_col)\n",
        "data_frame['stats']=stat\n",
        "data_frame['hypothesis']=hypothesis\n",
        "data_frame"
      ],
      "metadata": {
        "colab": {
          "base_uri": "https://localhost:8080/",
          "height": 300
        },
        "id": "PmKx5P-CLkBO",
        "outputId": "2f62145c-7889-46ba-d719-35200e1cbef8"
      },
      "execution_count": 183,
      "outputs": [
        {
          "output_type": "execute_result",
          "data": {
            "text/plain": [
              "                 P_value      stats                  hypothesis\n",
              "workclass       0.808534   7.694382  Accept the null hypothesis\n",
              "education       0.006178  55.475047  Reject the null hypothesis\n",
              "marital_status  0.000478  34.943606  Reject the null hypothesis\n",
              "occupation      0.084105  36.426192  Accept the null hypothesis\n",
              "relationship    0.000108  38.932958  Reject the null hypothesis\n",
              "race            0.979380   3.083901  Accept the null hypothesis\n",
              "sex             0.011448  12.965069  Reject the null hypothesis\n",
              "native_country  0.995837  16.187987  Accept the null hypothesis"
            ],
            "text/html": [
              "\n",
              "  <div id=\"df-9cbba623-2fef-468f-a452-3cdba4a8aaea\">\n",
              "    <div class=\"colab-df-container\">\n",
              "      <div>\n",
              "<style scoped>\n",
              "    .dataframe tbody tr th:only-of-type {\n",
              "        vertical-align: middle;\n",
              "    }\n",
              "\n",
              "    .dataframe tbody tr th {\n",
              "        vertical-align: top;\n",
              "    }\n",
              "\n",
              "    .dataframe thead th {\n",
              "        text-align: right;\n",
              "    }\n",
              "</style>\n",
              "<table border=\"1\" class=\"dataframe\">\n",
              "  <thead>\n",
              "    <tr style=\"text-align: right;\">\n",
              "      <th></th>\n",
              "      <th>P_value</th>\n",
              "      <th>stats</th>\n",
              "      <th>hypothesis</th>\n",
              "    </tr>\n",
              "  </thead>\n",
              "  <tbody>\n",
              "    <tr>\n",
              "      <th>workclass</th>\n",
              "      <td>0.808534</td>\n",
              "      <td>7.694382</td>\n",
              "      <td>Accept the null hypothesis</td>\n",
              "    </tr>\n",
              "    <tr>\n",
              "      <th>education</th>\n",
              "      <td>0.006178</td>\n",
              "      <td>55.475047</td>\n",
              "      <td>Reject the null hypothesis</td>\n",
              "    </tr>\n",
              "    <tr>\n",
              "      <th>marital_status</th>\n",
              "      <td>0.000478</td>\n",
              "      <td>34.943606</td>\n",
              "      <td>Reject the null hypothesis</td>\n",
              "    </tr>\n",
              "    <tr>\n",
              "      <th>occupation</th>\n",
              "      <td>0.084105</td>\n",
              "      <td>36.426192</td>\n",
              "      <td>Accept the null hypothesis</td>\n",
              "    </tr>\n",
              "    <tr>\n",
              "      <th>relationship</th>\n",
              "      <td>0.000108</td>\n",
              "      <td>38.932958</td>\n",
              "      <td>Reject the null hypothesis</td>\n",
              "    </tr>\n",
              "    <tr>\n",
              "      <th>race</th>\n",
              "      <td>0.979380</td>\n",
              "      <td>3.083901</td>\n",
              "      <td>Accept the null hypothesis</td>\n",
              "    </tr>\n",
              "    <tr>\n",
              "      <th>sex</th>\n",
              "      <td>0.011448</td>\n",
              "      <td>12.965069</td>\n",
              "      <td>Reject the null hypothesis</td>\n",
              "    </tr>\n",
              "    <tr>\n",
              "      <th>native_country</th>\n",
              "      <td>0.995837</td>\n",
              "      <td>16.187987</td>\n",
              "      <td>Accept the null hypothesis</td>\n",
              "    </tr>\n",
              "  </tbody>\n",
              "</table>\n",
              "</div>\n",
              "      <button class=\"colab-df-convert\" onclick=\"convertToInteractive('df-9cbba623-2fef-468f-a452-3cdba4a8aaea')\"\n",
              "              title=\"Convert this dataframe to an interactive table.\"\n",
              "              style=\"display:none;\">\n",
              "        \n",
              "  <svg xmlns=\"http://www.w3.org/2000/svg\" height=\"24px\"viewBox=\"0 0 24 24\"\n",
              "       width=\"24px\">\n",
              "    <path d=\"M0 0h24v24H0V0z\" fill=\"none\"/>\n",
              "    <path d=\"M18.56 5.44l.94 2.06.94-2.06 2.06-.94-2.06-.94-.94-2.06-.94 2.06-2.06.94zm-11 1L8.5 8.5l.94-2.06 2.06-.94-2.06-.94L8.5 2.5l-.94 2.06-2.06.94zm10 10l.94 2.06.94-2.06 2.06-.94-2.06-.94-.94-2.06-.94 2.06-2.06.94z\"/><path d=\"M17.41 7.96l-1.37-1.37c-.4-.4-.92-.59-1.43-.59-.52 0-1.04.2-1.43.59L10.3 9.45l-7.72 7.72c-.78.78-.78 2.05 0 2.83L4 21.41c.39.39.9.59 1.41.59.51 0 1.02-.2 1.41-.59l7.78-7.78 2.81-2.81c.8-.78.8-2.07 0-2.86zM5.41 20L4 18.59l7.72-7.72 1.47 1.35L5.41 20z\"/>\n",
              "  </svg>\n",
              "      </button>\n",
              "      \n",
              "  <style>\n",
              "    .colab-df-container {\n",
              "      display:flex;\n",
              "      flex-wrap:wrap;\n",
              "      gap: 12px;\n",
              "    }\n",
              "\n",
              "    .colab-df-convert {\n",
              "      background-color: #E8F0FE;\n",
              "      border: none;\n",
              "      border-radius: 50%;\n",
              "      cursor: pointer;\n",
              "      display: none;\n",
              "      fill: #1967D2;\n",
              "      height: 32px;\n",
              "      padding: 0 0 0 0;\n",
              "      width: 32px;\n",
              "    }\n",
              "\n",
              "    .colab-df-convert:hover {\n",
              "      background-color: #E2EBFA;\n",
              "      box-shadow: 0px 1px 2px rgba(60, 64, 67, 0.3), 0px 1px 3px 1px rgba(60, 64, 67, 0.15);\n",
              "      fill: #174EA6;\n",
              "    }\n",
              "\n",
              "    [theme=dark] .colab-df-convert {\n",
              "      background-color: #3B4455;\n",
              "      fill: #D2E3FC;\n",
              "    }\n",
              "\n",
              "    [theme=dark] .colab-df-convert:hover {\n",
              "      background-color: #434B5C;\n",
              "      box-shadow: 0px 1px 3px 1px rgba(0, 0, 0, 0.15);\n",
              "      filter: drop-shadow(0px 1px 2px rgba(0, 0, 0, 0.3));\n",
              "      fill: #FFFFFF;\n",
              "    }\n",
              "  </style>\n",
              "\n",
              "      <script>\n",
              "        const buttonEl =\n",
              "          document.querySelector('#df-9cbba623-2fef-468f-a452-3cdba4a8aaea button.colab-df-convert');\n",
              "        buttonEl.style.display =\n",
              "          google.colab.kernel.accessAllowed ? 'block' : 'none';\n",
              "\n",
              "        async function convertToInteractive(key) {\n",
              "          const element = document.querySelector('#df-9cbba623-2fef-468f-a452-3cdba4a8aaea');\n",
              "          const dataTable =\n",
              "            await google.colab.kernel.invokeFunction('convertToInteractive',\n",
              "                                                     [key], {});\n",
              "          if (!dataTable) return;\n",
              "\n",
              "          const docLinkHtml = 'Like what you see? Visit the ' +\n",
              "            '<a target=\"_blank\" href=https://colab.research.google.com/notebooks/data_table.ipynb>data table notebook</a>'\n",
              "            + ' to learn more about interactive tables.';\n",
              "          element.innerHTML = '';\n",
              "          dataTable['output_type'] = 'display_data';\n",
              "          await google.colab.output.renderOutput(dataTable, element);\n",
              "          const docLink = document.createElement('div');\n",
              "          docLink.innerHTML = docLinkHtml;\n",
              "          element.appendChild(docLink);\n",
              "        }\n",
              "      </script>\n",
              "    </div>\n",
              "  </div>\n",
              "  "
            ]
          },
          "metadata": {},
          "execution_count": 183
        }
      ]
    },
    {
      "cell_type": "markdown",
      "source": [
        "### Conclusion of hypothesis\n",
        "- For the workclass, occupation, race, native_country columns we have accepted the null hypothesis\n",
        "- It means these columns are not showing the relationship with target column\n",
        "- But for education, marital_sattus, relatioship, sex columns we have rejected the null hypothesis\n",
        "- It means these columns are showing that target columns has dependency on them"
      ],
      "metadata": {
        "id": "3h2YWWVINmuv"
      }
    },
    {
      "cell_type": "code",
      "source": [
        "# droping workclass, occupation, race, native_country columns\n",
        "# we are droping the education columns also because education_num also represent the same information\n",
        "\n",
        "train_data=train_data.drop(['workclass','education', 'occupation', 'race', 'native_country'], axis=1)"
      ],
      "metadata": {
        "id": "X0wzow-FRlYT"
      },
      "execution_count": 184,
      "outputs": []
    },
    {
      "cell_type": "code",
      "source": [],
      "metadata": {
        "id": "JhyiBl_vQubk"
      },
      "execution_count": 184,
      "outputs": []
    },
    {
      "cell_type": "code",
      "source": [
        "## applying square root transformation\n",
        "#for col in num_cols:\n",
        "#  train_data[col]=np.sqrt(train_data[col])\n",
        "\n",
        "# checking the skewness after transformation\n",
        "\n",
        "#for col in num_cols:\n",
        "#  print(f'Skewness for {col} is : ',train_data[col].skew())\n"
      ],
      "metadata": {
        "id": "aYLNWcPfPPZU"
      },
      "execution_count": 185,
      "outputs": []
    },
    {
      "cell_type": "markdown",
      "source": [
        "# Creating the feature and target column"
      ],
      "metadata": {
        "id": "2VfZ4ceATN8c"
      }
    },
    {
      "cell_type": "code",
      "source": [
        "x=train_data.drop('income',axis=1)\n",
        "y=train_data['income']"
      ],
      "metadata": {
        "id": "Ze0OLpCpTGhM"
      },
      "execution_count": 186,
      "outputs": []
    },
    {
      "cell_type": "markdown",
      "source": [
        "# Encoding the categorical columns"
      ],
      "metadata": {
        "id": "n6NVJ6tPSIsL"
      }
    },
    {
      "cell_type": "code",
      "source": [
        "cat_cols=[col for col in x.columns if x[col].dtype=='O']\n",
        "cat_cols"
      ],
      "metadata": {
        "id": "HuaAxMRA9-fD",
        "colab": {
          "base_uri": "https://localhost:8080/"
        },
        "outputId": "ff0c2a8f-4d4d-41ef-debc-537e8b07a603"
      },
      "execution_count": 187,
      "outputs": [
        {
          "output_type": "execute_result",
          "data": {
            "text/plain": [
              "['marital_status', 'relationship', 'sex']"
            ]
          },
          "metadata": {},
          "execution_count": 187
        }
      ]
    },
    {
      "cell_type": "code",
      "source": [
        "# converting sex columns to 0 and 1 \n",
        "x['sex']=x['sex'].map({'Female': 0,'Male': 1})\n",
        "\n",
        "# converting the datatype of sex column into integer\n",
        "x['sex']=x['sex'].astype(int)\n",
        "\n",
        "# cerating single and married class in marital_status \n",
        "x['marital_status']=x['marital_status'].replace(['Never-married','Separated','Widowed','Divorced'],'single')\n",
        "x['marital_status']=x['marital_status'].replace(['Married-civ-spouse','Married-spouse-absent','Married-AF-spouse'],'married')\n",
        "\n",
        "# converting single and married into 0 and 1 respectively\n",
        "x['marital_status']=x['marital_status'].map({\"single\":0,\"married\":1})\n",
        "\n",
        "# changig the datatype of marital_status column into integer\n",
        "\n",
        "x['marital_status']=x['marital_status'].astype(int)\n"
      ],
      "metadata": {
        "id": "zIwZVEPvUK9a"
      },
      "execution_count": 188,
      "outputs": []
    },
    {
      "cell_type": "code",
      "source": [
        "# applying get_dummies for encoding\n",
        "\n",
        "relationship=pd.get_dummies(x['relationship'])\n",
        "\n",
        "# concatinating the dataframes\n",
        "x=pd.concat([x,relationship],axis=1)\n",
        "\n",
        "# droping the relationship column\n",
        "\n",
        "x=x.drop('relationship',axis=1)"
      ],
      "metadata": {
        "id": "J6Or-D_vUh_a"
      },
      "execution_count": 189,
      "outputs": []
    },
    {
      "cell_type": "code",
      "source": [
        "# printing the new created data frame\n",
        "\n",
        "x.head()"
      ],
      "metadata": {
        "colab": {
          "base_uri": "https://localhost:8080/",
          "height": 305
        },
        "id": "m5gXbP4wVP0T",
        "outputId": "40ad770e-2f33-4833-dd1f-4c79fdd583f5"
      },
      "execution_count": 190,
      "outputs": [
        {
          "output_type": "execute_result",
          "data": {
            "text/plain": [
              "   age  education_num  marital_status  sex  hours_per_week  capital_change  \\\n",
              "0   39             13               0    1              40            2174   \n",
              "1   50             13               1    1              13               0   \n",
              "2   38              9               0    1              40               0   \n",
              "3   53              7               1    1              40               0   \n",
              "4   28             13               1    0              40               0   \n",
              "\n",
              "   Husband  Not-in-family  Other-relative  Own-child  Unmarried  Wife  \n",
              "0        0              1               0          0          0     0  \n",
              "1        1              0               0          0          0     0  \n",
              "2        0              1               0          0          0     0  \n",
              "3        1              0               0          0          0     0  \n",
              "4        0              0               0          0          0     1  "
            ],
            "text/html": [
              "\n",
              "  <div id=\"df-615836c8-2775-4f14-b4d2-7d7f77e7a9b6\">\n",
              "    <div class=\"colab-df-container\">\n",
              "      <div>\n",
              "<style scoped>\n",
              "    .dataframe tbody tr th:only-of-type {\n",
              "        vertical-align: middle;\n",
              "    }\n",
              "\n",
              "    .dataframe tbody tr th {\n",
              "        vertical-align: top;\n",
              "    }\n",
              "\n",
              "    .dataframe thead th {\n",
              "        text-align: right;\n",
              "    }\n",
              "</style>\n",
              "<table border=\"1\" class=\"dataframe\">\n",
              "  <thead>\n",
              "    <tr style=\"text-align: right;\">\n",
              "      <th></th>\n",
              "      <th>age</th>\n",
              "      <th>education_num</th>\n",
              "      <th>marital_status</th>\n",
              "      <th>sex</th>\n",
              "      <th>hours_per_week</th>\n",
              "      <th>capital_change</th>\n",
              "      <th>Husband</th>\n",
              "      <th>Not-in-family</th>\n",
              "      <th>Other-relative</th>\n",
              "      <th>Own-child</th>\n",
              "      <th>Unmarried</th>\n",
              "      <th>Wife</th>\n",
              "    </tr>\n",
              "  </thead>\n",
              "  <tbody>\n",
              "    <tr>\n",
              "      <th>0</th>\n",
              "      <td>39</td>\n",
              "      <td>13</td>\n",
              "      <td>0</td>\n",
              "      <td>1</td>\n",
              "      <td>40</td>\n",
              "      <td>2174</td>\n",
              "      <td>0</td>\n",
              "      <td>1</td>\n",
              "      <td>0</td>\n",
              "      <td>0</td>\n",
              "      <td>0</td>\n",
              "      <td>0</td>\n",
              "    </tr>\n",
              "    <tr>\n",
              "      <th>1</th>\n",
              "      <td>50</td>\n",
              "      <td>13</td>\n",
              "      <td>1</td>\n",
              "      <td>1</td>\n",
              "      <td>13</td>\n",
              "      <td>0</td>\n",
              "      <td>1</td>\n",
              "      <td>0</td>\n",
              "      <td>0</td>\n",
              "      <td>0</td>\n",
              "      <td>0</td>\n",
              "      <td>0</td>\n",
              "    </tr>\n",
              "    <tr>\n",
              "      <th>2</th>\n",
              "      <td>38</td>\n",
              "      <td>9</td>\n",
              "      <td>0</td>\n",
              "      <td>1</td>\n",
              "      <td>40</td>\n",
              "      <td>0</td>\n",
              "      <td>0</td>\n",
              "      <td>1</td>\n",
              "      <td>0</td>\n",
              "      <td>0</td>\n",
              "      <td>0</td>\n",
              "      <td>0</td>\n",
              "    </tr>\n",
              "    <tr>\n",
              "      <th>3</th>\n",
              "      <td>53</td>\n",
              "      <td>7</td>\n",
              "      <td>1</td>\n",
              "      <td>1</td>\n",
              "      <td>40</td>\n",
              "      <td>0</td>\n",
              "      <td>1</td>\n",
              "      <td>0</td>\n",
              "      <td>0</td>\n",
              "      <td>0</td>\n",
              "      <td>0</td>\n",
              "      <td>0</td>\n",
              "    </tr>\n",
              "    <tr>\n",
              "      <th>4</th>\n",
              "      <td>28</td>\n",
              "      <td>13</td>\n",
              "      <td>1</td>\n",
              "      <td>0</td>\n",
              "      <td>40</td>\n",
              "      <td>0</td>\n",
              "      <td>0</td>\n",
              "      <td>0</td>\n",
              "      <td>0</td>\n",
              "      <td>0</td>\n",
              "      <td>0</td>\n",
              "      <td>1</td>\n",
              "    </tr>\n",
              "  </tbody>\n",
              "</table>\n",
              "</div>\n",
              "      <button class=\"colab-df-convert\" onclick=\"convertToInteractive('df-615836c8-2775-4f14-b4d2-7d7f77e7a9b6')\"\n",
              "              title=\"Convert this dataframe to an interactive table.\"\n",
              "              style=\"display:none;\">\n",
              "        \n",
              "  <svg xmlns=\"http://www.w3.org/2000/svg\" height=\"24px\"viewBox=\"0 0 24 24\"\n",
              "       width=\"24px\">\n",
              "    <path d=\"M0 0h24v24H0V0z\" fill=\"none\"/>\n",
              "    <path d=\"M18.56 5.44l.94 2.06.94-2.06 2.06-.94-2.06-.94-.94-2.06-.94 2.06-2.06.94zm-11 1L8.5 8.5l.94-2.06 2.06-.94-2.06-.94L8.5 2.5l-.94 2.06-2.06.94zm10 10l.94 2.06.94-2.06 2.06-.94-2.06-.94-.94-2.06-.94 2.06-2.06.94z\"/><path d=\"M17.41 7.96l-1.37-1.37c-.4-.4-.92-.59-1.43-.59-.52 0-1.04.2-1.43.59L10.3 9.45l-7.72 7.72c-.78.78-.78 2.05 0 2.83L4 21.41c.39.39.9.59 1.41.59.51 0 1.02-.2 1.41-.59l7.78-7.78 2.81-2.81c.8-.78.8-2.07 0-2.86zM5.41 20L4 18.59l7.72-7.72 1.47 1.35L5.41 20z\"/>\n",
              "  </svg>\n",
              "      </button>\n",
              "      \n",
              "  <style>\n",
              "    .colab-df-container {\n",
              "      display:flex;\n",
              "      flex-wrap:wrap;\n",
              "      gap: 12px;\n",
              "    }\n",
              "\n",
              "    .colab-df-convert {\n",
              "      background-color: #E8F0FE;\n",
              "      border: none;\n",
              "      border-radius: 50%;\n",
              "      cursor: pointer;\n",
              "      display: none;\n",
              "      fill: #1967D2;\n",
              "      height: 32px;\n",
              "      padding: 0 0 0 0;\n",
              "      width: 32px;\n",
              "    }\n",
              "\n",
              "    .colab-df-convert:hover {\n",
              "      background-color: #E2EBFA;\n",
              "      box-shadow: 0px 1px 2px rgba(60, 64, 67, 0.3), 0px 1px 3px 1px rgba(60, 64, 67, 0.15);\n",
              "      fill: #174EA6;\n",
              "    }\n",
              "\n",
              "    [theme=dark] .colab-df-convert {\n",
              "      background-color: #3B4455;\n",
              "      fill: #D2E3FC;\n",
              "    }\n",
              "\n",
              "    [theme=dark] .colab-df-convert:hover {\n",
              "      background-color: #434B5C;\n",
              "      box-shadow: 0px 1px 3px 1px rgba(0, 0, 0, 0.15);\n",
              "      filter: drop-shadow(0px 1px 2px rgba(0, 0, 0, 0.3));\n",
              "      fill: #FFFFFF;\n",
              "    }\n",
              "  </style>\n",
              "\n",
              "      <script>\n",
              "        const buttonEl =\n",
              "          document.querySelector('#df-615836c8-2775-4f14-b4d2-7d7f77e7a9b6 button.colab-df-convert');\n",
              "        buttonEl.style.display =\n",
              "          google.colab.kernel.accessAllowed ? 'block' : 'none';\n",
              "\n",
              "        async function convertToInteractive(key) {\n",
              "          const element = document.querySelector('#df-615836c8-2775-4f14-b4d2-7d7f77e7a9b6');\n",
              "          const dataTable =\n",
              "            await google.colab.kernel.invokeFunction('convertToInteractive',\n",
              "                                                     [key], {});\n",
              "          if (!dataTable) return;\n",
              "\n",
              "          const docLinkHtml = 'Like what you see? Visit the ' +\n",
              "            '<a target=\"_blank\" href=https://colab.research.google.com/notebooks/data_table.ipynb>data table notebook</a>'\n",
              "            + ' to learn more about interactive tables.';\n",
              "          element.innerHTML = '';\n",
              "          dataTable['output_type'] = 'display_data';\n",
              "          await google.colab.output.renderOutput(dataTable, element);\n",
              "          const docLink = document.createElement('div');\n",
              "          docLink.innerHTML = docLinkHtml;\n",
              "          element.appendChild(docLink);\n",
              "        }\n",
              "      </script>\n",
              "    </div>\n",
              "  </div>\n",
              "  "
            ]
          },
          "metadata": {},
          "execution_count": 190
        }
      ]
    },
    {
      "cell_type": "markdown",
      "source": [
        "# Spliting the data"
      ],
      "metadata": {
        "id": "YZQRmC5kKEkp"
      }
    },
    {
      "cell_type": "code",
      "source": [
        "# split the data set into training and validation set\n",
        "\n",
        "x_train,x_val,y_train,y_val=train_test_split(x,y,test_size=0.20,random_state=21)"
      ],
      "metadata": {
        "id": "OnV77ysHKDMS"
      },
      "execution_count": 191,
      "outputs": []
    },
    {
      "cell_type": "markdown",
      "source": [
        "# Feature scaling\n",
        "- We apply feature scaling to scale the data into same range\n",
        "- We will apply standard scaler"
      ],
      "metadata": {
        "id": "bdEm4r01aUMa"
      }
    },
    {
      "cell_type": "code",
      "source": [
        "# scaling\n",
        "\n",
        "# creating instance for standard scaler class\n",
        "scaler=StandardScaler()\n",
        "\n",
        "# transforming the data\n",
        "x_train_scaled=scaler.fit_transform(x_train)\n",
        "x_val_scaled=scaler.transform(x_val)"
      ],
      "metadata": {
        "id": "6r23vZ43aEFq"
      },
      "execution_count": 192,
      "outputs": []
    },
    {
      "cell_type": "code",
      "source": [
        "x_train_scaled.shape, x_val_scaled.shape"
      ],
      "metadata": {
        "colab": {
          "base_uri": "https://localhost:8080/"
        },
        "id": "fluJGPq_bT7x",
        "outputId": "0a59ad19-74f7-44ca-ae94-eeaadbfcda38"
      },
      "execution_count": 193,
      "outputs": [
        {
          "output_type": "execute_result",
          "data": {
            "text/plain": [
              "((26048, 12), (6513, 12))"
            ]
          },
          "metadata": {},
          "execution_count": 193
        }
      ]
    },
    {
      "cell_type": "markdown",
      "source": [
        "# Model Building"
      ],
      "metadata": {
        "id": "jEj8adNe-oG5"
      }
    },
    {
      "cell_type": "code",
      "source": [
        "# Import the libraries\n",
        "\n",
        "\n",
        "from sklearn.model_selection import train_test_split\n",
        "from sklearn.linear_model import LogisticRegression\n",
        "from sklearn.tree import DecisionTreeClassifier\n",
        "from sklearn.ensemble import RandomForestClassifier\n",
        "from sklearn.svm import SVC\n",
        "from xgboost import XGBClassifier\n",
        "\n",
        "from sklearn.metrics import confusion_matrix, precision_score, accuracy_score,recall_score,roc_curve\n",
        "from sklearn.metrics import classification_report\n",
        "from sklearn.model_selection import StratifiedKFold, KFold, cross_val_score\n"
      ],
      "metadata": {
        "id": "0ex0QuUF-qrp"
      },
      "execution_count": 194,
      "outputs": []
    },
    {
      "cell_type": "code",
      "source": [
        "# create the dictionary of models\n",
        "\n",
        "models={'Log_reg':LogisticRegression(),\n",
        "       'decision_tree':DecisionTreeClassifier(),\n",
        "       'random_forest':RandomForestClassifier(),\n",
        "       'svc':SVC(),\n",
        "       'xgb':XGBClassifier()}\n",
        "\n",
        "#\n",
        "\n",
        "kfold=KFold(n_splits=5)\n",
        "\n",
        "\n",
        "for key, model in models.items():\n",
        "  clf=model.fit(x_train,y_train)\n",
        "  cv_score=cross_val_score(model,x_train,y_train,cv=5)\n",
        "  y_pred=clf.predict(x_val)\n",
        "  classification=classification_report(y_val,y_pred)\n",
        "  fpr,tpr,_=roc_curve(y_val,y_pred)\n",
        "  print(f'cv_score of {key} is', cv_score.mean())\n",
        "  print(f'\\ncalssification report of {key} is \\n', classification)\n",
        "\n",
        "\n",
        "  plt.plot(fpr,tpr,label=key)\n",
        "  plt.legend()\n",
        "\n"
      ],
      "metadata": {
        "colab": {
          "base_uri": "https://localhost:8080/",
          "height": 1000
        },
        "id": "PI7EstIt_sbg",
        "outputId": "2ae72378-5111-4109-cb0b-4457291158d3"
      },
      "execution_count": 197,
      "outputs": [
        {
          "output_type": "stream",
          "name": "stdout",
          "text": [
            "cv_score of Log_reg is 0.8067419264384063\n",
            "\n",
            "calssification report of Log_reg is \n",
            "               precision    recall  f1-score   support\n",
            "\n",
            "           0       0.85      0.92      0.89      4926\n",
            "           1       0.67      0.51      0.58      1587\n",
            "\n",
            "    accuracy                           0.82      6513\n",
            "   macro avg       0.76      0.72      0.73      6513\n",
            "weighted avg       0.81      0.82      0.81      6513\n",
            "\n",
            "cv_score of decision_tree is 0.8256678662981425\n",
            "\n",
            "calssification report of decision_tree is \n",
            "               precision    recall  f1-score   support\n",
            "\n",
            "           0       0.87      0.91      0.89      4926\n",
            "           1       0.67      0.58      0.62      1587\n",
            "\n",
            "    accuracy                           0.83      6513\n",
            "   macro avg       0.77      0.74      0.76      6513\n",
            "weighted avg       0.82      0.83      0.82      6513\n",
            "\n",
            "cv_score of random_forest is 0.8417918787393294\n",
            "\n",
            "calssification report of random_forest is \n",
            "               precision    recall  f1-score   support\n",
            "\n",
            "           0       0.88      0.92      0.90      4926\n",
            "           1       0.70      0.61      0.66      1587\n",
            "\n",
            "    accuracy                           0.84      6513\n",
            "   macro avg       0.79      0.77      0.78      6513\n",
            "weighted avg       0.84      0.84      0.84      6513\n",
            "\n",
            "cv_score of svc is 0.8023647687875222\n",
            "\n",
            "calssification report of svc is \n",
            "               precision    recall  f1-score   support\n",
            "\n",
            "           0       0.81      0.97      0.88      4926\n",
            "           1       0.74      0.29      0.42      1587\n",
            "\n",
            "    accuracy                           0.80      6513\n",
            "   macro avg       0.78      0.63      0.65      6513\n",
            "weighted avg       0.79      0.80      0.77      6513\n",
            "\n",
            "cv_score of xgb is 0.8584533707900361\n",
            "\n",
            "calssification report of xgb is \n",
            "               precision    recall  f1-score   support\n",
            "\n",
            "           0       0.88      0.95      0.91      4926\n",
            "           1       0.78      0.59      0.67      1587\n",
            "\n",
            "    accuracy                           0.86      6513\n",
            "   macro avg       0.83      0.77      0.79      6513\n",
            "weighted avg       0.85      0.86      0.85      6513\n",
            "\n"
          ]
        },
        {
          "output_type": "display_data",
          "data": {
            "text/plain": [
              "<Figure size 432x288 with 1 Axes>"
            ],
            "image/png": "[encoded data removed]"
          },
          "metadata": {
            "needs_background": "light"
          }
        }
      ]
    },
    {
      "cell_type": "markdown",
      "source": [
        "## Analysis\n",
        "- We can see in roc curve, the area under curve is maximum for XGB Classifier, which suggest it is best classifier here\n",
        "- We can aslo see the calssification report for each model, It also suggesting that XGB Classifier is giving us best result among all algorithm that we have used\n",
        "- XGB Classifier is giving us 85.8% of accuracy"
      ],
      "metadata": {
        "id": "pnQU4WfDRCsH"
      }
    },
    {
      "cell_type": "markdown",
      "source": [
        "## Final Model"
      ],
      "metadata": {
        "id": "mVA4KSxUT4Rb"
      }
    },
    {
      "cell_type": "code",
      "source": [
        "## Selecting the final model\n",
        "## We are taking number of tree equal to 100 and maximum depth equal to 8\n",
        "\n",
        "xgb=XGBClassifier(max_depth=8,n_estimators=100,verbosity=1)\n",
        "\n",
        "xgb.fit(x_train,y_train)\n",
        "\n",
        "\n",
        "\n",
        "\n"
      ],
      "metadata": {
        "colab": {
          "base_uri": "https://localhost:8080/"
        },
        "id": "lkRsFqjECgrV",
        "outputId": "1e9e97d7-417a-46e2-bf0f-10e506d879e3"
      },
      "execution_count": 198,
      "outputs": [
        {
          "output_type": "execute_result",
          "data": {
            "text/plain": [
              "XGBClassifier(max_depth=8)"
            ]
          },
          "metadata": {},
          "execution_count": 198
        }
      ]
    },
    {
      "cell_type": "markdown",
      "source": [
        "## Save the model"
      ],
      "metadata": {
        "id": "P6Kl76zKuUv1"
      }
    },
    {
      "cell_type": "code",
      "source": [
        "# saving the model in pickle format\n",
        "\n",
        "filename='census_income.pickle'\n",
        "\n",
        "saved_model=pickle.dump(xgb,open(filename,'wb'))"
      ],
      "metadata": {
        "id": "H7LwAC07uYd0"
      },
      "execution_count": 206,
      "outputs": []
    },
    {
      "cell_type": "markdown",
      "source": [
        "## Prediction"
      ],
      "metadata": {
        "id": "OIFF5G2VRzP8"
      }
    },
    {
      "cell_type": "code",
      "source": [
        "y_pred=xgb.predict(x_val)\n",
        "y_pred\n",
        "\n"
      ],
      "metadata": {
        "colab": {
          "base_uri": "https://localhost:8080/"
        },
        "id": "kRtiPx9eRtz3",
        "outputId": "f79e4c6c-5b37-41e3-f9a1-76073dee7a73"
      },
      "execution_count": 199,
      "outputs": [
        {
          "output_type": "execute_result",
          "data": {
            "text/plain": [
              "array([0, 0, 1, ..., 0, 1, 0])"
            ]
          },
          "metadata": {},
          "execution_count": 199
        }
      ]
    },
    {
      "cell_type": "markdown",
      "source": [
        "# Performance of model"
      ],
      "metadata": {
        "id": "tyRC-DjeR7Rc"
      }
    },
    {
      "cell_type": "code",
      "source": [
        "print('Classification Report\\n', classification_report(y_val,y_pred))"
      ],
      "metadata": {
        "colab": {
          "base_uri": "https://localhost:8080/"
        },
        "id": "Z-0Zb-dTR6VN",
        "outputId": "f8154eef-d462-423d-ea29-1dc11abb0a7f"
      },
      "execution_count": 200,
      "outputs": [
        {
          "output_type": "stream",
          "name": "stdout",
          "text": [
            "Classification Report\n",
            "               precision    recall  f1-score   support\n",
            "\n",
            "           0       0.89      0.94      0.91      4926\n",
            "           1       0.78      0.63      0.69      1587\n",
            "\n",
            "    accuracy                           0.86      6513\n",
            "   macro avg       0.83      0.78      0.80      6513\n",
            "weighted avg       0.86      0.86      0.86      6513\n",
            "\n"
          ]
        }
      ]
    },
    {
      "cell_type": "code",
      "source": [
        "# confusion_matrix\n",
        "\n",
        "sns.heatmap(confusion_matrix(y_val,y_pred), annot=True,fmt='g')"
      ],
      "metadata": {
        "colab": {
          "base_uri": "https://localhost:8080/",
          "height": 283
        },
        "id": "Be3cnrCcSUUd",
        "outputId": "a9866fd7-4972-48fa-9381-55ae582324f6"
      },
      "execution_count": 201,
      "outputs": [
        {
          "output_type": "execute_result",
          "data": {
            "text/plain": [
              "<matplotlib.axes._subplots.AxesSubplot at 0x7f2ac7279690>"
            ]
          },
          "metadata": {},
          "execution_count": 201
        },
        {
          "output_type": "display_data",
          "data": {
            "text/plain": [
              "<Figure size 432x288 with 2 Axes>"
            ],
            "image/png": "[encoded data removed]"
          },
          "metadata": {
            "needs_background": "light"
          }
        }
      ]
    },
    {
      "cell_type": "markdown",
      "source": [],
      "metadata": {
        "id": "fvbvW9GduTB9"
      }
    },
    {
      "cell_type": "code",
      "source": [],
      "metadata": {
        "id": "kjJYALnluSAc"
      },
      "execution_count": null,
      "outputs": []
    },
    {
      "cell_type": "markdown",
      "source": [
        "# Conclusion\n",
        "- In this problem statement our main aim was to predict the income of person based on the given features by using different-2 classification algorithm whether perosn earns <=50K or >50K\n",
        "- First of all we have loaded the data set.We did some data preprocessing to clean the data set\n",
        "- After doing the cleaning we have done some Exploratory data analysis to analyse the data set and to make out some insight from data set\n",
        "- We have also ploted some graphs to visualize the data set.\n",
        "- We have done some feature selection based on hypothesis testing\n",
        "- Feature sclaing was also done\n",
        "- In the last we have trained some algorithm on training data set\n",
        "- To check the performace of models we have created classification report and ploted ROC curve.\n",
        "- On the basis of classification report and ROC curve we have done some comparision where we find XGB Classifier was giving us the best result with accuracy of 86%"
      ],
      "metadata": {
        "id": "tbm_Ii3PLA8t"
      }
    }
  ]
}